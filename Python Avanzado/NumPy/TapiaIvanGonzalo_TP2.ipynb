{
  "nbformat": 4,
  "nbformat_minor": 0,
  "metadata": {
    "colab": {
      "provenance": []
    },
    "kernelspec": {
      "name": "python3",
      "display_name": "Python 3"
    },
    "language_info": {
      "name": "python"
    }
  },
  "cells": [
    {
      "cell_type": "code",
      "execution_count": null,
      "metadata": {
        "id": "CaFvbWr_-FvY"
      },
      "outputs": [],
      "source": [
        "import numpy as np"
      ]
    },
    {
      "cell_type": "markdown",
      "source": [
        "#Punto 1"
      ],
      "metadata": {
        "id": "dmfZ8wwU_2Ot"
      }
    },
    {
      "cell_type": "code",
      "source": [
        "a = 2 \n",
        "b = 4\n",
        "c = 16\n",
        "d = 3\n",
        "\n",
        "u = np.array([a,b])\n",
        "v = np.array([c,d])\n",
        "res_a =  v - u\n",
        "res_b = -v - u\n",
        "res_c = 2*u - v\n",
        "res_d = 0.5/u - 2*v\n",
        "\n",
        "print(res_a,res_b,res_c,res_d)"
      ],
      "metadata": {
        "colab": {
          "base_uri": "https://localhost:8080/"
        },
        "id": "bHaT_O6P-gCB",
        "outputId": "cd37984a-2827-4d0f-cede-6b49a8dc1ad5"
      },
      "execution_count": null,
      "outputs": [
        {
          "output_type": "stream",
          "name": "stdout",
          "text": [
            "[14 -1] [-18  -7] [-12   5] [-31.75   -5.875]\n"
          ]
        }
      ]
    },
    {
      "cell_type": "markdown",
      "source": [
        "#Punto 2\n"
      ],
      "metadata": {
        "id": "CJecaiHJAXVE"
      }
    },
    {
      "cell_type": "markdown",
      "source": [
        "2. Una tienda de electrodomésticos escribía a mano en el archivo de texto “stock.txt”\n",
        "los productos que vende, junto con el respectivo precio y stock restante. Quieren\n",
        "guardar esta información en bloques de datos más seguros.\n",
        "Implementar un script que lea los n datos el archivo y genere tres arreglos\n",
        "unidimensionales con los tres tipos de datos del mismo.\n",
        "Ayuda: Reorganizarlos en una matriz de tres columnas y n filas, y luego dividirla en\n",
        "tres vectores y finalmente arreglar la inconsistencia de tipos."
      ],
      "metadata": {
        "id": "CEUbIqH3Ai75"
      }
    },
    {
      "cell_type": "markdown",
      "source": [
        "A partir del inciso anterior:\n",
        "3. Escribir un script que pida un string al usuario con el nombre de un producto, busqué\n",
        "si se encuentra en el vector, y en cuyo caso imprima su precio y cantidad disponible.\n",
        "4. Escribir una función comprar(producto) que reciba un string con el nombre de\n",
        "un producto, verifique si existe o hay disponibilidad, y en dicho caso disminuya la\n",
        "cantidad disponible y retornará Verdadero, en cualquier otro caso deberá devolver\n",
        "Falso.\n",
        "5. Escribir una función Agregar(producto, precio, cantidad) y\n",
        "Reponer(producto, cantidad). La primera añadirá un nuevo elemento a los\n",
        "tres vectores (en caso de que no exista en la misma), la segunda aumentará la\n",
        "cantidad disponible de dicho producto, en caso de que el mismo exista. Ambas\n",
        "retornarán Verdadero o Falso según corresponda.\n"
      ],
      "metadata": {
        "id": "W-ggdMREAlhw"
      }
    },
    {
      "cell_type": "code",
      "source": [
        "archivo = open('tp2_stock.txt', \"r\")\n",
        "datos = archivo.read().split('\\n')\n",
        "archivo.close()\n",
        "\n",
        "print(datos)\n",
        "len_datos = len(datos)\n",
        "datos = np.array(datos)\n",
        "\n",
        "filas = int(len_datos/3)\n",
        "columnas = 3\n",
        "\n",
        "\n",
        "datos =   datos.reshape(filas,columnas)\n",
        "print(datos)\n",
        "productos,precios,cantidades = np.split(datos, 3, 1)  #separo el dataset en 3 elementos, y los argumentos del split son:1 array a splitear, 3 los elementos asignados, y el 1 es eje de accisas\n",
        "\n",
        "precios = precios.astype('float')\n",
        "cantidades = cantidades.astype('int')\n",
        "\n",
        "print(productos)\n",
        "print(precios)\n",
        "print(cantidades)\n",
        "\n"
      ],
      "metadata": {
        "id": "x_7zA7Vh_AwI"
      },
      "execution_count": null,
      "outputs": []
    },
    {
      "cell_type": "markdown",
      "source": [
        "#Punto 3"
      ],
      "metadata": {
        "id": "tFJql7waFXkv"
      }
    },
    {
      "cell_type": "markdown",
      "source": [
        "Escribir un script que pida un string al usuario con el nombre de un producto, busqué si se encuentra en el vector, y en cuyo caso imprima su precio y cantidad disponible."
      ],
      "metadata": {
        "id": "7czbIkPpFecZ"
      }
    },
    {
      "cell_type": "code",
      "source": [
        "producto = input(\"Ingrese el producto a buscar: \")\n",
        "if (producto in productos):\n",
        "  pos = np.where(productos == producto)\n",
        "\n",
        "  print(f\"El producto {producto}, sale ${precios[pos]} y quedan {cantidades[pos]}\")\n",
        "  cantidades[pos] = cantidades[pos] -1\n"
      ],
      "metadata": {
        "id": "sey0WUjdFfXt"
      },
      "execution_count": null,
      "outputs": []
    },
    {
      "cell_type": "markdown",
      "source": [
        "#Punto4"
      ],
      "metadata": {
        "id": "vtPzKKq5On3O"
      }
    },
    {
      "cell_type": "markdown",
      "source": [
        "Escribir una función comprar(producto) que reciba un string con el nombre de un producto, verifique si existe o hay disponibilidad, y en dicho caso disminuya la cantidad disponible y retornará Verdadero, en cualquier otro caso deberá devolver Falso."
      ],
      "metadata": {
        "id": "zxgIFM0aRuvF"
      }
    },
    {
      "cell_type": "code",
      "source": [
        "producto = input(\"Ingrese el producto a buscar: \")\n",
        "def comprar(producto):\n",
        "\n",
        "  if (producto in productos):\n",
        "    pos = np.where(productos == producto)\n",
        "    if cantidades[pos]!=0:\n",
        "      cantidades[pos] = cantidades[pos] -1\n",
        "      return True, \"Se retiro un producto\"\n",
        "    else:\n",
        "      return False, \"No hay stock\"\n",
        "  else:\n",
        "    return False\n",
        "\n"
      ],
      "metadata": {
        "id": "pemSOgqlRxsT"
      },
      "execution_count": null,
      "outputs": []
    },
    {
      "cell_type": "markdown",
      "source": [
        "#Punto 5"
      ],
      "metadata": {
        "id": "zuX-UXTFS88X"
      }
    },
    {
      "cell_type": "markdown",
      "source": [
        "Escribir una función Agregar(producto, precio, cantidad) y Reponer(producto, cantidad). La primera añadirá un nuevo elemento a los tres vectores (en caso de que no exista en la misma), la segunda aumentará la cantidad disponible de dicho producto, en caso de que el mismo exista. Ambas retornarán Verdadero o Falso según corresponda."
      ],
      "metadata": {
        "id": "4stnF4hpTAE-"
      }
    },
    {
      "cell_type": "code",
      "source": [
        "def agregar(producto, precio, cantidad):\n",
        "  \n",
        "  if(producto in productos):\n",
        "    return \"El producto existe\"\n",
        "  else:\n",
        "    productos = np.append(productos, producto, axis = 0)\n",
        "    precios= np.append(precios, precio, axis = 0)\n",
        "    cantidades = np.append(cantidades, cantidad, axis = 0)\n",
        "\n",
        "    return productos, precios, cantidades"
      ],
      "metadata": {
        "id": "9QoAcMrdTv6Z"
      },
      "execution_count": null,
      "outputs": []
    },
    {
      "cell_type": "code",
      "source": [
        "def reponer(producto, cantidad):\n",
        "    if (producto in productos):\n",
        "      pos = np.where(productos == producto)\n",
        "      cantidades[pos] = cantidades[pos] + cantidad\n",
        "      return True, \"Se repuso una unidad del producto\"\n",
        "    else:\n",
        "      return False, \"No existe el producto\""
      ],
      "metadata": {
        "id": "I6E1gwe3TA2w"
      },
      "execution_count": null,
      "outputs": []
    },
    {
      "cell_type": "markdown",
      "source": [],
      "metadata": {
        "id": "VQktiCcE4HRG"
      }
    },
    {
      "cell_type": "markdown",
      "source": [
        "#Punto 6"
      ],
      "metadata": {
        "id": "roaIxWD04IFo"
      }
    },
    {
      "cell_type": "markdown",
      "source": [
        "Se desea implementar un sistema de lotería virtual. A continuación se detallan los\n",
        "pasos a seguir para desarrollar un prototipo del proyecto. Se detallan los pasos a\n",
        "seguir acompañado de observaciones a tener en cuenta para cuando deban\n",
        "preparar sus propios proyectos.\n",
        "a. Primero generar la combinación del billete ganador en un vector. El billete\n",
        "deberá contener cuatro (4) números aleatorios en el rango [0 ; 5].\n",
        "Obs: El rango de los números aleatorios es muy acotado. La razón de esto\n",
        "se explicará en el inciso c.\n",
        "Programación Python Avanzada\n",
        "Tecnicatura Universitaria en Tecnologías de Programación\n",
        "2022-2\n",
        "b. Debemos generar los billetes de los participantes. Crearemos una matriz a\n",
        "cuyas filas asignaremos 10 billetes aleatorios (con las mismas restricciones\n",
        "del billete ganador).\n",
        "Obs: Reutilizar el código de generación del billete ganador para generar las\n",
        "filas"
      ],
      "metadata": {
        "id": "DmF526X94N0X"
      }
    },
    {
      "cell_type": "code",
      "source": [
        "def crear_billete():\n",
        "  billete = np.random.randint(0, 5, size=4, dtype = int)\n",
        "  return(billete)\n"
      ],
      "metadata": {
        "id": "p-fLQxn04Jx2"
      },
      "execution_count": null,
      "outputs": []
    },
    {
      "cell_type": "code",
      "source": [
        "billete_ganador = crear_billete()\n"
      ],
      "metadata": {
        "id": "zQGEhr685W01",
        "colab": {
          "base_uri": "https://localhost:8080/",
          "height": 252
        },
        "outputId": "6d54a736-b349-4cd1-a495-9c4453795e26"
      },
      "execution_count": null,
      "outputs": [
        {
          "output_type": "error",
          "ename": "NameError",
          "evalue": "ignored",
          "traceback": [
            "\u001b[0;31m---------------------------------------------------------------------------\u001b[0m",
            "\u001b[0;31mNameError\u001b[0m                                 Traceback (most recent call last)",
            "\u001b[0;32m<ipython-input-2-8e7d3b66d016>\u001b[0m in \u001b[0;36m<module>\u001b[0;34m\u001b[0m\n\u001b[0;32m----> 1\u001b[0;31m \u001b[0mbillete_ganador\u001b[0m \u001b[0;34m=\u001b[0m \u001b[0mcrear_billete\u001b[0m\u001b[0;34m(\u001b[0m\u001b[0;34m)\u001b[0m\u001b[0;34m\u001b[0m\u001b[0;34m\u001b[0m\u001b[0m\n\u001b[0m",
            "\u001b[0;32m<ipython-input-1-18566626c192>\u001b[0m in \u001b[0;36mcrear_billete\u001b[0;34m()\u001b[0m\n\u001b[1;32m      1\u001b[0m \u001b[0;32mdef\u001b[0m \u001b[0mcrear_billete\u001b[0m\u001b[0;34m(\u001b[0m\u001b[0;34m)\u001b[0m\u001b[0;34m:\u001b[0m\u001b[0;34m\u001b[0m\u001b[0;34m\u001b[0m\u001b[0m\n\u001b[0;32m----> 2\u001b[0;31m   \u001b[0mbillete\u001b[0m \u001b[0;34m=\u001b[0m \u001b[0mnp\u001b[0m\u001b[0;34m.\u001b[0m\u001b[0mrandom\u001b[0m\u001b[0;34m.\u001b[0m\u001b[0mrandint\u001b[0m\u001b[0;34m(\u001b[0m\u001b[0;36m0\u001b[0m\u001b[0;34m,\u001b[0m \u001b[0;36m5\u001b[0m\u001b[0;34m,\u001b[0m \u001b[0msize\u001b[0m\u001b[0;34m=\u001b[0m\u001b[0;36m4\u001b[0m\u001b[0;34m,\u001b[0m \u001b[0mdtype\u001b[0m \u001b[0;34m=\u001b[0m \u001b[0mint\u001b[0m\u001b[0;34m)\u001b[0m\u001b[0;34m\u001b[0m\u001b[0;34m\u001b[0m\u001b[0m\n\u001b[0m\u001b[1;32m      3\u001b[0m   \u001b[0;32mreturn\u001b[0m\u001b[0;34m(\u001b[0m\u001b[0mbillete\u001b[0m\u001b[0;34m)\u001b[0m\u001b[0;34m\u001b[0m\u001b[0;34m\u001b[0m\u001b[0m\n",
            "\u001b[0;31mNameError\u001b[0m: name 'np' is not defined"
          ]
        }
      ]
    },
    {
      "cell_type": "code",
      "source": [
        "billetes_participantes = np.array([])\n",
        "billetes_participantes2 = np.random.randint(0,5,size=(10,4))\n",
        "filas = 10\n",
        "columnas = 4\n",
        "for i in range(10):\n",
        "  billetes_participantes = np.append(crear_billete(), billetes_participantes, 0)\n",
        "  participantes = np.vstack((participantes, billetes_participantes2))\n",
        "billetes_participantes = billetes_participantes.reshape(filas, columnas) #hago reshape para ordenar los 10 billetes(filas) con 4 numeros(columnas)\n",
        "print(billetes_participantes2)"
      ],
      "metadata": {
        "id": "msSyQIWz5mf3"
      },
      "execution_count": null,
      "outputs": []
    },
    {
      "cell_type": "code",
      "source": [
        "def buscar_coincidencias(billete_ganador, billetes_participantes):\n",
        "  \n",
        "  coincidencias = np.isin(billetes_participantes, billete_ganador )\n",
        "  aciertos = np.array([])\n",
        "  billetes_p = np.array([])\n",
        "\n",
        "\n",
        "  temp = 0  #creo la variable temporal para ir guardando la cantidad de aciertos de cada billete\n",
        "  for i in coincidencias:\n",
        "    temp=0  #reinicio el contador cada vez que recorro un billete\n",
        "    \n",
        "    for j in i:\n",
        "      \n",
        "      if j == True:\n",
        "        temp+=1\n",
        "    aciertos= np.append(temp, aciertos)\n",
        "    \n",
        "  pos = 0  \n",
        "  for i in billetes_participantes:\n",
        "    billetes_p = np.append(billetes_p, i)\n",
        "    #aciertos = np.insert(aciertos, pos, i)\n",
        "    #aciertos = np.split(aciertos,2,0)\n",
        "  billetes_p = billetes_p.reshape(10,4)\n",
        "\n",
        "  #aciertos = aciertos.reshape(10,5)\n",
        "  return aciertos\n",
        " \n",
        "print(buscar_coincidencias(billete_ganador, billetes_participantes))\n"
      ],
      "metadata": {
        "id": "g7_nXFMIAgib"
      },
      "execution_count": null,
      "outputs": []
    },
    {
      "cell_type": "code",
      "source": [
        "for i in billetes_participantes:\n",
        "  "
      ],
      "metadata": {
        "id": "SsgcjMilFBDt"
      },
      "execution_count": null,
      "outputs": []
    },
    {
      "cell_type": "markdown",
      "source": [
        "Los ganadores serán aquellos que posean coincidencias del mismo número\n",
        "en la misma posición que el billete ganador. Escribir un código que\n",
        "devuelva un arreglo con la cantidad de coincidencias de cada participante.\n",
        "Ejemplo:\n",
        "Billete ganador: [3 2 0 5 4 3 1]\n",
        "Billete participante 1: [2 4 1 5 2 3 1] 1 coincidencias.\n",
        "Billete participante 2: [1 5 1 4 3 1 3] 0 coincidencias.\n",
        "Billete participante 2: [4 1 0 5 2 3 0] 3 coincidencias.\n",
        "Arreglo devuelto: [1 0 3]\n",
        "Obs: La razón de elegir un rango de números aleatorios pequeño en el\n",
        "inciso a es para poder comprobar las coincidencias. Si eligiéramos el rango\n",
        "de [0 ; 99] sería difícil que en esta pequeña prueba tuviéramos muchas\n",
        "coincidencias, sin embargo al elegir un rango más pequeño seguramente\n",
        "podremos comprobar el funcionamiento de nuestro programa. Al verificar que\n",
        "el funcionamiento es correcto podremos simplemente cambiar los parámetros\n",
        "del código para tener rango aleatorio más grande, distinta cantidad de\n",
        "números por billete y cantidad de participantes más grande.\n",
        "d. Opcional 1: Luego de tener el programa listo, crear una función que tome\n",
        "como parámetros cantidad de números por billete, rango de números\n",
        "aleatorios, y cantidad de participantes. La función debe devolver por un lado\n",
        "el billete ganador y por otro la matriz con los billetes de los participantes.\n",
        "e. Opcional 2: Crear una función que tome como parámetros el billete ganador y\n",
        "la matriz de billetes de participantes, y devuelva el número del participante\n",
        "que tenga el billete ganador (en caso que lo haya), o [-1] si ningún\n",
        "participante ganó. Ejemplo de encabezado:\n",
        "Comprobar_ganador (billete_ganador, participantes)"
      ],
      "metadata": {
        "id": "YUgmqsi88MXd"
      }
    },
    {
      "cell_type": "code",
      "source": [
        "a1 = [1,2,5,7,3,8]\n",
        "a2 = [3,8,9,5,7,2]\n",
        "cant_aciertos=[]\n",
        "x = 0\n",
        "test = np.isin(a1, a2)\n",
        "for i in test:\n",
        "  if i == True:\n",
        "    x +=1\n",
        "cant_aciertos.append(x)\n",
        "\n",
        "print(test)\n",
        "print(cant_aciertos)\n"
      ],
      "metadata": {
        "id": "o-9B4z4B8WC_"
      },
      "execution_count": null,
      "outputs": []
    },
    {
      "cell_type": "code",
      "source": [],
      "metadata": {
        "id": "HMwCPZjW-jke"
      },
      "execution_count": null,
      "outputs": []
    },
    {
      "cell_type": "code",
      "source": [],
      "metadata": {
        "id": "Vm-uP822wvvh"
      },
      "execution_count": null,
      "outputs": []
    },
    {
      "cell_type": "markdown",
      "source": [
        "#Punto 7"
      ],
      "metadata": {
        "id": "4cLf11AKDIFH"
      }
    },
    {
      "cell_type": "markdown",
      "source": [
        "7. En toda comunicación digital los datos viajan en formato binario, es decir, cadenas\n",
        "de unos y ceros. Para poder interpretar esta información los datos se envían en\n",
        "“paquetes”, es decir, grupos de tamaño finito.\n",
        "A continuación se presenta la señal recibida en una comunicación digital. Los\n",
        "paquetes respetan el formato ASCII, por lo tanto cada paquete es de 8 bits (cada 8\n",
        "números se tiene un carácter).\n",
        "Ejemplo: El paquete ‘01000001’ corresponde al carácter “A”, mientras que el\n",
        "‘010101010’ es el carácter ‘a’. La señal :‘01000001010101010’ es una señal de dos\n",
        "paquetes que contiene el mensaje “Aa”.\n",
        "La comunicación que debe descifrar contiene nueve (9) paquetes de ocho (8) bits\n",
        "cada uno. Separar cada uno de los paquetes y mostrar el mensaje descifrado.\n",
        "Para convertir cada paquete en su carácter ASCII usar la siguiente expresión:\n",
        "chr(int('010101010',2))\n",
        "Donde la secuencia insertada entre comillas es la combinación ASCII del carácter.\n",
        "Ejemplo de uso:\n",
        "x = chr(int('010101010',2))\n",
        "print(x)\n",
        "Señal a decodificar:\n",
        "010010000110111101101100011000010100110101110101011011100110010001101111"
      ],
      "metadata": {
        "id": "JQkMoHB_DMec"
      }
    },
    {
      "cell_type": "code",
      "source": [
        "y = \"010010000110111101101100011000010100110101110101011011100110010001101111\"\n",
        "x=[]\n",
        "temp = \"\"\n",
        "contador = 0\n",
        "for i in y:     #recorro el string\n",
        "  contador+=1   #incremento contador para saber cuando llego a 8bits\n",
        "  temp = i+temp #la var temp me sirve para ir guardando los datos de cad bit\n",
        "  \n",
        "  if contador == 8: #cuando tengo los 8 bits hago lo siguiente\n",
        "    x.append(temp)  #apendizo lo que venia guardando en la var temp(son los datos de cada bit ceros y unos)\n",
        "    contador = 0    #reinicio el contador a 0 para volver a buscar otros 8 bits\n",
        "    temp = \"\"       #reinicio la var temp, para que entren guardar los siguientes 8 bits y que no se me concatene con los bits anteriores\n",
        "print(x)"
      ],
      "metadata": {
        "colab": {
          "base_uri": "https://localhost:8080/"
        },
        "id": "mTomWrCiDL3H",
        "outputId": "eeb33bbc-97cb-4bfa-af19-6b01cf793ec1"
      },
      "execution_count": null,
      "outputs": [
        {
          "output_type": "stream",
          "name": "stdout",
          "text": [
            "['00010010', '11110110', '00110110', '10000110', '10110010', '10101110', '01110110', '00100110', '11110110']\n"
          ]
        }
      ]
    },
    {
      "cell_type": "code",
      "source": [
        "def descifrar(x): #creo descifrar\n",
        "  des = \"\"        #var des que voy a usar para guardar los datos que contiene cada character ASCII\n",
        "  var=[\"\"]            #var var que va a guardar los datos descifrados\n",
        "  for i in x:     #recorro la lista de bytes que cree anteriormente \n",
        "   des= str(i)    #convierto a string para poder usar el chr\n",
        "   v = chr(int(des,2))  #aca agarro los datos que tiene des, que son los 8 bits y uso chr para leer el byte de codigo ascii\n",
        "   \n",
        "   print(v)\n",
        "   var.append(v)      #PREGUNTAR PQ ASI EL RETURN, Y EL PRINT SON DIFERENTES Y ES LA MISMA VARIABLE\n",
        "  return var\n",
        "\n",
        "descifrar(x)"
      ],
      "metadata": {
        "colab": {
          "base_uri": "https://localhost:8080/"
        },
        "id": "LPGDdw0jD5C3",
        "outputId": "dd9a14c6-7e1f-4efe-d9f1-36329f748ff1"
      },
      "execution_count": null,
      "outputs": [
        {
          "output_type": "stream",
          "name": "stdout",
          "text": [
            "\u0012\n",
            "ö\n",
            "6\n",
            "\n",
            "²\n",
            "®\n",
            "v\n",
            "&\n",
            "ö\n"
          ]
        },
        {
          "output_type": "execute_result",
          "data": {
            "text/plain": [
              "['', '\\x12', 'ö', '6', '\\x86', '²', '®', 'v', '&', 'ö']"
            ]
          },
          "metadata": {},
          "execution_count": 96
        }
      ]
    },
    {
      "cell_type": "code",
      "source": [
        "arr = np.array([1,2,3,4,5,6]).reshape((3,2))\n",
        "print(arr)\n"
      ],
      "metadata": {
        "colab": {
          "base_uri": "https://localhost:8080/"
        },
        "id": "IL89APQgHyq3",
        "outputId": "2783ee2b-297a-4f5e-b2f0-ffcef3c95097"
      },
      "execution_count": null,
      "outputs": [
        {
          "output_type": "stream",
          "name": "stdout",
          "text": [
            "[[1 2]\n",
            " [3 4]\n",
            " [5 6]]\n"
          ]
        }
      ]
    }
  ]
}
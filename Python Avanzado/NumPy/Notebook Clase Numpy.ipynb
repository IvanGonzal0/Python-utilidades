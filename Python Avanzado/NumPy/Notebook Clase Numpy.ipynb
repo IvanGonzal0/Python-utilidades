{
  "nbformat": 4,
  "nbformat_minor": 0,
  "metadata": {
    "colab": {
      "provenance": [],
      "collapsed_sections": []
    },
    "kernelspec": {
      "name": "python3",
      "display_name": "Python 3"
    },
    "language_info": {
      "name": "python"
    }
  },
  "cells": [
    {
      "cell_type": "markdown",
      "source": [
        "# **UNIDAD TEMÁTICA II: Manejo y análisis de datos**\n",
        "\n",
        "*   Arreglos unidimensionales y multidimensionales.   Operaciones entre arreglos. Redimensionamiento. Conversiones de tipos. Concatenación. Generación de arreglos aleatorios y de secuencias de datos. Comparación de arreglos. \n",
        "*   <font color='blue'>Numpy</font>"
      ],
      "metadata": {
        "id": "roHjVWgovHUT"
      }
    },
    {
      "cell_type": "markdown",
      "source": [
        "## **<center>Arrays / Arreglos</center>**"
      ],
      "metadata": {
        "id": "IJ4ZXk6qvftw"
      }
    },
    {
      "cell_type": "markdown",
      "source": [
        "Python está organizado en ***módulos***, que son archivos con extensión **.py** que contienen funciones, variables y otros objetos... y **paquetes, que son conjuntos de módulos**.\n",
        "\n",
        "Cuando queremos utilizar objetos que están definidos en un módulo tenemos que importarlo, y una vez que lo hemos hecho podemos usar el operador **.** para ir descendiendo en la jerarquía de paquetes y acceder al objeto que necesitamos. Por ejemplo, de esta manera importamos <font color='blue'>NumPy:</font>"
      ],
      "metadata": {
        "id": "1BTZyvzGuS1-"
      }
    },
    {
      "cell_type": "code",
      "source": [
        "import numpy as np"
      ],
      "metadata": {
        "id": "FQ46J-Ue83pf"
      },
      "execution_count": null,
      "outputs": []
    },
    {
      "cell_type": "code",
      "source": [
        "np.all"
      ],
      "metadata": {
        "colab": {
          "base_uri": "https://localhost:8080/"
        },
        "id": "B2qkMM4EwL9q",
        "outputId": "5cf791b5-7d50-49bb-a916-e244fe0d679f"
      },
      "execution_count": null,
      "outputs": [
        {
          "output_type": "execute_result",
          "data": {
            "text/plain": [
              "<function numpy.all(a, axis=None, out=None, keepdims=<no value>, *, where=<no value>)>"
            ]
          },
          "metadata": {},
          "execution_count": 2
        }
      ]
    },
    {
      "cell_type": "markdown",
      "source": [
        "**Qué es NumPy?**\n",
        "\n",
        "Hasta ahora habran visto los tipos de datos más básicos que nos ofrece Python: str, integer, boolean, list, tuple... Pero ¿que hay de los vectores, matrices...?\n",
        "\n",
        "El paquete numpy es usado en casi todos los cálculos numéricos usando Python. Es un paquete que provee a Python de estructuras de datos vectoriales, matriciales y de rango mayor (de alto rendimiento). Proporciona un objeto tipo **array** para almacenar datos de forma eficiente y una serie de funciones para operar y manipular esos datos\n",
        "\n",
        "¿Qué solemos guardar en arrays?\n",
        "\n",
        "*   Vectores y matrices\n",
        "*   Datos de experimentos: En distintos instantes discretos. En distintos puntos del espacio\n",
        "*   Discretizaciones para usar algoritmos de: integración, derivación, interpolación..."
      ],
      "metadata": {
        "id": "pMaoWn3xwm8V"
      }
    },
    {
      "cell_type": "markdown",
      "source": [
        "**Array de una dimensión**\n",
        "\n",
        "Un array de NumPy es una colección de N elementos, igual que una secuencia de Python (por ejemplo, una lista). Tiene las mismas propiedades que una secuencia y algunas más:\n",
        "\n",
        "Los arreglos nos permiten realizar operaciones sobre todos los elementos a la vez en una misma operación; con las listas debemos realizar las operaciones sobre cada elemento individualmente.\n",
        "\n",
        "Nuestro primer array: Los arrays de una dimensión se crean pasándole una lista como argumento a la función **np.array**"
      ],
      "metadata": {
        "id": "L9KDl0UOQjKD"
      }
    },
    {
      "cell_type": "code",
      "source": [
        "mi_primer_array = np.array([1, 2, 3, 4]) \n",
        "mi_primer_array"
      ],
      "metadata": {
        "colab": {
          "base_uri": "https://localhost:8080/"
        },
        "id": "4mLjkKazwiLO",
        "outputId": "9b7d919c-f490-4208-ca81-7393cf445bc6"
      },
      "execution_count": null,
      "outputs": [
        {
          "output_type": "execute_result",
          "data": {
            "text/plain": [
              "array([1, 2, 3, 4])"
            ]
          },
          "metadata": {},
          "execution_count": 28
        }
      ]
    },
    {
      "cell_type": "code",
      "source": [
        "# Podemos usar print\n",
        "print(mi_primer_array)"
      ],
      "metadata": {
        "colab": {
          "base_uri": "https://localhost:8080/"
        },
        "id": "E7pA9Ju5QlCT",
        "outputId": "10ba5869-98bf-4646-dc8c-8fb4baf309b0"
      },
      "execution_count": null,
      "outputs": [
        {
          "output_type": "stream",
          "name": "stdout",
          "text": [
            "[1 2 3 4]\n"
          ]
        }
      ]
    },
    {
      "cell_type": "code",
      "source": [
        "# Comprobar el tipo de mi_primer_array\n",
        "type(mi_primer_array)"
      ],
      "metadata": {
        "colab": {
          "base_uri": "https://localhost:8080/"
        },
        "id": "MPKnJuwiQxps",
        "outputId": "7c79ccc5-b14f-45bc-939e-f1cb7497534d"
      },
      "execution_count": null,
      "outputs": [
        {
          "output_type": "execute_result",
          "data": {
            "text/plain": [
              "numpy.ndarray"
            ]
          },
          "metadata": {},
          "execution_count": 26
        }
      ]
    },
    {
      "cell_type": "markdown",
      "source": [
        "Los arrays de NumPy son homogéneos, es decir, todos sus elementos son del mismo tipo. Si le pasamos a np.array una secuencia con objetos de tipos diferentes, promocionará todos al tipo con más información. Para acceder al tipo del array, podemos usar el atributo **dtype**\n"
      ],
      "metadata": {
        "id": "H7_UrDTJTJn4"
      }
    },
    {
      "cell_type": "code",
      "source": [
        "# Comprobar el tipo de datos que contiene\n",
        "mi_primer_array.dtype"
      ],
      "metadata": {
        "colab": {
          "base_uri": "https://localhost:8080/"
        },
        "id": "9LmHNBdxQ0Uo",
        "outputId": "7dbea135-bc61-4a5b-e05a-e5f23de240f0"
      },
      "execution_count": null,
      "outputs": [
        {
          "output_type": "execute_result",
          "data": {
            "text/plain": [
              "dtype('int64')"
            ]
          },
          "metadata": {},
          "execution_count": 30
        }
      ]
    },
    {
      "cell_type": "code",
      "source": [
        "# EJEMPLO VISTO EN LA CLASE: \n",
        "# Vemos que si ponemos un numero decimal en un arreglo de enteros, numpy elige el tipo \"float\" para el array (aunque el resto \n",
        "# sean todos enteros).\n",
        "mi_primer_array = np.array([1, 2, 3.0, 4])\n",
        "print(mi_primer_array.dtype)"
      ],
      "metadata": {
        "colab": {
          "base_uri": "https://localhost:8080/"
        },
        "id": "JgCJMc9RTQMW",
        "outputId": "e1b56468-cfe5-4edd-ad9f-219c956f1a19"
      },
      "execution_count": null,
      "outputs": [
        {
          "output_type": "stream",
          "name": "stdout",
          "text": [
            "float64\n"
          ]
        }
      ]
    },
    {
      "cell_type": "markdown",
      "source": [
        "**Array multidimensional**\n",
        "\n",
        "Para crear un array de dos dimensiones le pasaremos una lista de listas:"
      ],
      "metadata": {
        "id": "bvy0d0WdQ6qD"
      }
    },
    {
      "cell_type": "code",
      "source": [
        "# Array de dos dimensiones\n",
        "mi_segundo_array = np.array([[1, 2, 3], [4, 5, 6], [7, 8, 9]])"
      ],
      "metadata": {
        "id": "sEVejT3YRH1o"
      },
      "execution_count": null,
      "outputs": []
    },
    {
      "cell_type": "code",
      "source": [
        "print(mi_segundo_array)"
      ],
      "metadata": {
        "colab": {
          "base_uri": "https://localhost:8080/"
        },
        "id": "2zxEgwhHxEHq",
        "outputId": "afb6f72a-4a06-4fd4-e9c2-4e4f133b859d"
      },
      "execution_count": null,
      "outputs": [
        {
          "output_type": "stream",
          "name": "stdout",
          "text": [
            "[[1 2 3]\n",
            " [4 5 6]\n",
            " [7 8 9]]\n"
          ]
        }
      ]
    },
    {
      "cell_type": "markdown",
      "source": [
        "Esto sería una buena manera de definirlo, de acuerdo con el PEP 8 (indentation)\n",
        "\n",
        "Nota: Guia de estilo de Python\n",
        "https://peps.python.org/pep-0008/"
      ],
      "metadata": {
        "id": "hnU3e0nfROFs"
      }
    },
    {
      "cell_type": "code",
      "source": [
        "mi_segundo_array = np.array([\n",
        "    [1, 2, 3],\n",
        "    [4, 5, 6],\n",
        "    [7, 8, 9]\n",
        "    ]) "
      ],
      "metadata": {
        "id": "V6uf_LWCRIMj"
      },
      "execution_count": null,
      "outputs": []
    },
    {
      "cell_type": "markdown",
      "source": [
        "**Funciones y constantes de NumPy**\n",
        "\n",
        "Hemos dicho que NumPy también incorporá funciones. Un ejemplo sencillo:"
      ],
      "metadata": {
        "id": "22y81CNzRuse"
      }
    },
    {
      "cell_type": "code",
      "source": [
        "print(mi_primer_array)"
      ],
      "metadata": {
        "colab": {
          "base_uri": "https://localhost:8080/"
        },
        "id": "EsJkr1-5SGIP",
        "outputId": "2201d4d7-bd7f-46e1-8508-a5e408d3881b"
      },
      "execution_count": null,
      "outputs": [
        {
          "output_type": "stream",
          "name": "stdout",
          "text": [
            "[1 2 3 4]\n"
          ]
        }
      ]
    },
    {
      "cell_type": "code",
      "source": [
        "# Suma\n",
        "np.sum(mi_primer_array)"
      ],
      "metadata": {
        "colab": {
          "base_uri": "https://localhost:8080/"
        },
        "id": "aU02DoOIRlRA",
        "outputId": "5f59a88d-739f-44f0-c995-9fd64b78a817"
      },
      "execution_count": null,
      "outputs": [
        {
          "output_type": "execute_result",
          "data": {
            "text/plain": [
              "10.0"
            ]
          },
          "metadata": {},
          "execution_count": 11
        }
      ]
    },
    {
      "cell_type": "code",
      "source": [
        "# Máximo / minimo\n",
        "print(np.min(mi_primer_array))\n",
        "print(np.max(mi_primer_array))"
      ],
      "metadata": {
        "colab": {
          "base_uri": "https://localhost:8080/"
        },
        "id": "sLgCkmPUSBmN",
        "outputId": "3b250e3d-cdfe-4640-a718-4c7756ddd4b6"
      },
      "execution_count": null,
      "outputs": [
        {
          "output_type": "stream",
          "name": "stdout",
          "text": [
            "1\n",
            "4\n"
          ]
        }
      ]
    },
    {
      "cell_type": "code",
      "source": [
        "print(mi_segundo_array)"
      ],
      "metadata": {
        "colab": {
          "base_uri": "https://localhost:8080/"
        },
        "id": "PfYIA3IlSPKM",
        "outputId": "f8ce6ba5-2e4a-4ea5-f9e6-22e1a0a16041"
      },
      "execution_count": null,
      "outputs": [
        {
          "output_type": "stream",
          "name": "stdout",
          "text": [
            "[[1 2 3]\n",
            " [4 5 6]\n",
            " [7 8 9]]\n"
          ]
        }
      ]
    },
    {
      "cell_type": "code",
      "source": [
        "# Seno\n",
        "np.sin(mi_segundo_array)"
      ],
      "metadata": {
        "colab": {
          "base_uri": "https://localhost:8080/"
        },
        "id": "j5fRKpYsSfqp",
        "outputId": "cd9b3cfb-b343-4227-e220-f34b18d920b9"
      },
      "execution_count": null,
      "outputs": [
        {
          "output_type": "execute_result",
          "data": {
            "text/plain": [
              "array([[ 0.84147098,  0.90929743,  0.14112001],\n",
              "       [-0.7568025 , -0.95892427, -0.2794155 ],\n",
              "       [ 0.6569866 ,  0.98935825,  0.41211849]])"
            ]
          },
          "metadata": {},
          "execution_count": 14
        }
      ]
    },
    {
      "cell_type": "markdown",
      "source": [
        "**Nota**: Si NumPy no entiende el tipo de datos o construimos un array con argumentos incorrectos devolverá un array con dtype `object`. Estos arrays rara vez son útiles y su aparición suele ser signo de que algo falla en nuestro programa.\n",
        "\n",
        "NumPy intentará automáticamente construir un array con el tipo adecuado teniendo en cuenta los datos de entrada, aunque nosotros podemos forzarlo.\n",
        "\n"
      ],
      "metadata": {
        "id": "xSzpDciUTzTn"
      }
    },
    {
      "cell_type": "code",
      "source": [
        "# Ejemplo forzando el tipo de dato. A pesar que todos los numeros son enteros (y por defecto construiria un arreglo de \"int\"),\n",
        "# podemos forzar a que el tipo de dato del arreglo sea \"float\".\n",
        "a = np.array([1, 2, 3], dtype=float)\n",
        "print(a.dtype)\n",
        "print(a)"
      ],
      "metadata": {
        "colab": {
          "base_uri": "https://localhost:8080/"
        },
        "id": "XADgnlVeUW8d",
        "outputId": "7b3cf3a0-54b8-422d-c49e-1eb0c424dd9a"
      },
      "execution_count": null,
      "outputs": [
        {
          "output_type": "stream",
          "name": "stdout",
          "text": [
            "float64\n",
            "[1. 2. 3.]\n"
          ]
        }
      ]
    },
    {
      "cell_type": "code",
      "source": [
        "# Otro ejemplo forzando tipo de dato.\n",
        "np.array([1, 2, 3], dtype=complex)"
      ],
      "metadata": {
        "colab": {
          "base_uri": "https://localhost:8080/"
        },
        "id": "ORUvjON_Ucyt",
        "outputId": "88315c04-877b-4f94-b4d4-c79f825200ab"
      },
      "execution_count": null,
      "outputs": [
        {
          "output_type": "execute_result",
          "data": {
            "text/plain": [
              "array([1.+0.j, 2.+0.j, 3.+0.j])"
            ]
          },
          "metadata": {},
          "execution_count": 57
        }
      ]
    },
    {
      "cell_type": "markdown",
      "source": [
        "Además de arrays, NumPy contiene también constantes y funciones matemáticas de uso cotidiano"
      ],
      "metadata": {
        "id": "ES7g-OEnSl6x"
      }
    },
    {
      "cell_type": "code",
      "source": [
        "np.e"
      ],
      "metadata": {
        "colab": {
          "base_uri": "https://localhost:8080/"
        },
        "id": "kqL-pdYeSgvX",
        "outputId": "49c2878b-bbcd-4926-dc67-b0e9afbe11df"
      },
      "execution_count": null,
      "outputs": [
        {
          "output_type": "execute_result",
          "data": {
            "text/plain": [
              "2.718281828459045"
            ]
          },
          "metadata": {},
          "execution_count": 17
        }
      ]
    },
    {
      "cell_type": "code",
      "source": [
        "np.pi"
      ],
      "metadata": {
        "colab": {
          "base_uri": "https://localhost:8080/"
        },
        "id": "Um9FnEzdSsdZ",
        "outputId": "f59f693a-e342-42a5-c39d-5592f1221a60"
      },
      "execution_count": null,
      "outputs": [
        {
          "output_type": "execute_result",
          "data": {
            "text/plain": [
              "3.141592653589793"
            ]
          },
          "metadata": {},
          "execution_count": 18
        }
      ]
    },
    {
      "cell_type": "code",
      "source": [
        "np.log(2)"
      ],
      "metadata": {
        "colab": {
          "base_uri": "https://localhost:8080/"
        },
        "id": "TVWnnC0CSti6",
        "outputId": "13d7fa84-2406-4638-ad31-a80a36e27785"
      },
      "execution_count": null,
      "outputs": [
        {
          "output_type": "execute_result",
          "data": {
            "text/plain": [
              "0.6931471805599453"
            ]
          },
          "metadata": {},
          "execution_count": 19
        }
      ]
    },
    {
      "cell_type": "markdown",
      "source": [
        "**Funciones para crear arrays**"
      ],
      "metadata": {
        "id": "0aaDXKZxUo-A"
      }
    },
    {
      "cell_type": "code",
      "source": [
        "# En una dimensión \n",
        "# Crea un arreglo con tantos ceros como se indique.\n",
        "a = np.zeros(25)\n",
        "print(a.shape)\n",
        "print(a)"
      ],
      "metadata": {
        "colab": {
          "base_uri": "https://localhost:8080/"
        },
        "id": "XD7wRfqbSv5U",
        "outputId": "b7a3d9b3-d20d-4070-eeb2-cd6e6433e91a"
      },
      "execution_count": null,
      "outputs": [
        {
          "output_type": "stream",
          "name": "stdout",
          "text": [
            "(25,)\n",
            "[0. 0. 0. 0. 0. 0. 0. 0. 0. 0. 0. 0. 0. 0. 0. 0. 0. 0. 0. 0. 0. 0. 0. 0.\n",
            " 0.]\n"
          ]
        }
      ]
    },
    {
      "cell_type": "code",
      "source": [
        "# En dos (o más) dimensiones\n",
        "# Crea una matriz de las dimensiones indicadas con ceros.\n",
        "a = np.zeros([10,10])\n",
        "print(a.shape)\n",
        "print(a.dtype)\n",
        "print(a)"
      ],
      "metadata": {
        "colab": {
          "base_uri": "https://localhost:8080/"
        },
        "id": "0r5EostDUt6o",
        "outputId": "d7e13767-b507-4129-d4b2-3010d3abb8f8"
      },
      "execution_count": null,
      "outputs": [
        {
          "output_type": "stream",
          "name": "stdout",
          "text": [
            "(10, 10)\n",
            "int8\n",
            "[[0 0 0 0 0 0 0 0 0 0]\n",
            " [0 0 0 0 0 0 0 0 0 0]\n",
            " [0 0 0 0 0 0 0 0 0 0]\n",
            " [0 0 0 0 0 0 0 0 0 0]\n",
            " [0 0 0 0 0 0 0 0 0 0]\n",
            " [0 0 0 0 0 0 0 0 0 0]\n",
            " [0 0 0 0 0 0 0 0 0 0]\n",
            " [0 0 0 0 0 0 0 0 0 0]\n",
            " [0 0 0 0 0 0 0 0 0 0]\n",
            " [0 0 0 0 0 0 0 0 0 0]]\n"
          ]
        }
      ]
    },
    {
      "cell_type": "code",
      "source": [
        "np.ones([3, 2])"
      ],
      "metadata": {
        "colab": {
          "base_uri": "https://localhost:8080/"
        },
        "id": "wxJeL0oVUy_H",
        "outputId": "38a5db7c-f622-447e-a45a-59c28e2a24d6"
      },
      "execution_count": null,
      "outputs": [
        {
          "output_type": "execute_result",
          "data": {
            "text/plain": [
              "array([[1., 1.],\n",
              "       [1., 1.],\n",
              "       [1., 1.]])"
            ]
          },
          "metadata": {},
          "execution_count": 22
        }
      ]
    },
    {
      "cell_type": "code",
      "source": [
        "a = np.identity(4)\n",
        "print(a.shape)\n",
        "print(a)"
      ],
      "metadata": {
        "colab": {
          "base_uri": "https://localhost:8080/"
        },
        "id": "1tqFp-24U9Hz",
        "outputId": "e6877ecf-77e7-4109-f33f-8a03fbf9458f"
      },
      "execution_count": null,
      "outputs": [
        {
          "output_type": "stream",
          "name": "stdout",
          "text": [
            "(4, 4)\n",
            "[[1. 0. 0. 0.]\n",
            " [0. 1. 0. 0.]\n",
            " [0. 0. 1. 0.]\n",
            " [0. 0. 0. 1.]]\n"
          ]
        }
      ]
    },
    {
      "cell_type": "markdown",
      "source": [
        "**Ejercicio:**\n",
        "\n",
        "*   Crear un array z1 3x4 lleno de ceros de tipo entero.\n",
        "*   Crear un array z2 3x4 lleno de ceros salvo la primera fila que serán todo unos. (resuelto mas abajo)\n",
        "*   Crear un array z3 3x4 lleno de ceros salvo la última fila que será el rango entre 5 y 8. (resuelto mas abajo)"
      ],
      "metadata": {
        "id": "4Z_j1KiNpuIm"
      }
    },
    {
      "cell_type": "code",
      "source": [
        "# Crear un array z1 3x4 lleno de ceros de tipo entero.\n",
        "z1=np.zeros([3,4], dtype=int)\n",
        "print(z1)\n",
        "print(z1.dtype)"
      ],
      "metadata": {
        "colab": {
          "base_uri": "https://localhost:8080/"
        },
        "id": "ymT2fm259KGH",
        "outputId": "73de9461-899a-47d9-d68d-4b6d6b34070a"
      },
      "execution_count": null,
      "outputs": [
        {
          "output_type": "stream",
          "name": "stdout",
          "text": [
            "[[0 0 0 0]\n",
            " [0 0 0 0]\n",
            " [0 0 0 0]]\n",
            "int64\n"
          ]
        }
      ]
    },
    {
      "cell_type": "markdown",
      "source": [
        "**Rangos:**\n",
        "\n",
        "NumPy, dame un array que vaya de 0 a 5:"
      ],
      "metadata": {
        "id": "ewJK47Q2VDgc"
      }
    },
    {
      "cell_type": "code",
      "source": [
        "#desde el numero que inicia el arreglo hasta el SIGUIENTE del ultimo numero, puedo aclarar el paso que da con el parametro step\n",
        "# np.arange(start, stop, step)\n",
        "a = np.arange(0, 5)   \n",
        "a"
      ],
      "metadata": {
        "colab": {
          "base_uri": "https://localhost:8080/"
        },
        "id": "mD7dTXfXU_05",
        "outputId": "af26517e-42e5-412f-81b0-b5331d052cfc"
      },
      "execution_count": null,
      "outputs": [
        {
          "output_type": "execute_result",
          "data": {
            "text/plain": [
              "array([0, 1, 2, 3, 4])"
            ]
          },
          "metadata": {},
          "execution_count": 87
        }
      ]
    },
    {
      "cell_type": "markdown",
      "source": [
        "Mira con atención el resultado anterior, ¿hay algo que deberías grabar en tu cabeza para simpre? El último elemento no es 5 sino 4 y el primer elemento va a ser 0.\n",
        "\n",
        "**Ejercicio:**\n",
        "NumPy, dame un array que vaya de 0 a 10, de 3 en 3:\n",
        "\n"
      ],
      "metadata": {
        "id": "8azSjx9eVNfI"
      }
    },
    {
      "cell_type": "code",
      "source": [
        "np.arange(0, 11, 3)"
      ],
      "metadata": {
        "colab": {
          "base_uri": "https://localhost:8080/"
        },
        "id": "BMZXiNrsVH9-",
        "outputId": "468e40bf-235d-447c-8859-da2ec016aac5"
      },
      "execution_count": null,
      "outputs": [
        {
          "output_type": "execute_result",
          "data": {
            "text/plain": [
              "array([0, 3, 6, 9])"
            ]
          },
          "metadata": {},
          "execution_count": 90
        }
      ]
    },
    {
      "cell_type": "markdown",
      "source": [
        "**Indexación de arrays:**\n",
        "\n",
        "Una de las herramientas más importantes a la hora de trabajar con arrays es el indexado. Consiste en seleccionar elementos aislados o secciones de un array. Nosotros vamos a ver la indexación básica, pero existen técnicas de indexación avanzada que convierten los arrays en herramientas potentísimas."
      ],
      "metadata": {
        "id": "HtqBgqB2V7Jl"
      }
    },
    {
      "cell_type": "code",
      "source": [
        "a = np.arange(2,15) #creo el arreglo ejemplo\n",
        "print(a)            #muestro el arreglo entero\n",
        "print(' ')          #pongo esto nada mas para que aparezcan separados los mensajes por un renglon\n",
        "print(a[8])         #muestro el indice 8 (lugar 9) del arreglo (indice = lugar -1)\n",
        "\n",
        "a[8]=125            #modifico el elemento en la posicion 8 del arreglo\n",
        "print(' ')\n",
        "print(a)            #muestro el arreglo modificado"
      ],
      "metadata": {
        "colab": {
          "base_uri": "https://localhost:8080/"
        },
        "id": "6Ae38w1I_7z6",
        "outputId": "97272e6a-21be-4e86-a535-d792d27b2821"
      },
      "execution_count": null,
      "outputs": [
        {
          "output_type": "stream",
          "name": "stdout",
          "text": [
            "[ 2  3  4  5  6  7  8  9 10 11 12 13 14]\n",
            "10\n",
            "[  2   3   4   5   6   7   8   9 125  11  12  13  14]\n"
          ]
        }
      ]
    },
    {
      "cell_type": "markdown",
      "source": [
        "Los índices se indican entre corchetes justo después del array. Recuerda que en Python **la indexación empieza en 0**. Si recuperamos el primer elemento de un array de dos dimensiones, obtenemos la primera fila."
      ],
      "metadata": {
        "id": "YvnYjhI0WV2a"
      }
    },
    {
      "cell_type": "code",
      "source": [
        "# Recupero la fila 0.\n",
        "a[0]"
      ],
      "metadata": {
        "colab": {
          "base_uri": "https://localhost:8080/"
        },
        "id": "pp7zLpxHWTEo",
        "outputId": "b8f022ce-277e-47ec-e1e6-75e5c9052dca"
      },
      "execution_count": null,
      "outputs": [
        {
          "output_type": "execute_result",
          "data": {
            "text/plain": [
              "array([1, 2, 3, 4, 5, 6])"
            ]
          },
          "metadata": {},
          "execution_count": 105
        }
      ]
    },
    {
      "cell_type": "markdown",
      "source": [
        "Para recuperar el primer elemento de la primera fila, podemos abreviar aún más la sintaxis:\n",
        "\n"
      ],
      "metadata": {
        "id": "IqOJFFV-Ya3n"
      }
    },
    {
      "cell_type": "code",
      "source": [
        "# Recupero el elemento en la fila 1, columna 5.\n",
        "a[1, 5]"
      ],
      "metadata": {
        "colab": {
          "base_uri": "https://localhost:8080/"
        },
        "id": "N5bvo_kyWhhs",
        "outputId": "531b525b-31cf-45a0-bf97-73c61aa3dd15"
      },
      "execution_count": null,
      "outputs": [
        {
          "output_type": "execute_result",
          "data": {
            "text/plain": [
              "12"
            ]
          },
          "metadata": {},
          "execution_count": 107
        }
      ]
    },
    {
      "cell_type": "code",
      "source": [
        "#En este bloque MODIFICO el elemento de la fila 1, columna 5 y muestro el arreglo antes y despues.\n",
        "print(a)\n",
        "a[1,5]=0    #aca modifico el elemento\n",
        "print(' ')  #esto para que haya un espacio en el medio cuando muestro el arreglo antes y despues\n",
        "print(a)"
      ],
      "metadata": {
        "colab": {
          "base_uri": "https://localhost:8080/"
        },
        "id": "CxJ5AFfxFwQc",
        "outputId": "2769d2b6-daaa-4ee9-bdf9-315231721632"
      },
      "execution_count": null,
      "outputs": [
        {
          "output_type": "stream",
          "name": "stdout",
          "text": [
            "[[ 1  2  3  4  5  6]\n",
            " [ 7  8  9 10 11 12]]\n",
            " \n",
            "[[ 1  2  3  4  5  6]\n",
            " [ 7  8  9 10 11  0]]\n"
          ]
        }
      ]
    },
    {
      "cell_type": "markdown",
      "source": [
        "No solo podemos recuperar un elemento aislado, sino también porciones del array, utilizando la sintaxis **[inicio : final : salto]**\n",
        "\n",
        "Veamos algunos ejemplos continuando con el ejemplo anterior: El inicio se incluye pero el fin se excluye\n",
        "\n"
      ],
      "metadata": {
        "id": "2YbLh_LhYn_A"
      }
    },
    {
      "cell_type": "code",
      "source": [
        "arr = np.array([12, 23, 34, 45, 56, 67, 78, 89, 91])"
      ],
      "metadata": {
        "id": "1sBx5mgDa7oL"
      },
      "execution_count": null,
      "outputs": []
    },
    {
      "cell_type": "code",
      "source": [
        "arr[3:9]   #NO TOMA el ultimo valor, es hasta el anterior (si quiero hasta el indice 8, pongo segundo numero 9)"
      ],
      "metadata": {
        "colab": {
          "base_uri": "https://localhost:8080/"
        },
        "id": "VAfKopFeZHY9",
        "outputId": "e41de0f1-b0a0-4710-9ed4-b1933ec309c8"
      },
      "execution_count": null,
      "outputs": [
        {
          "output_type": "execute_result",
          "data": {
            "text/plain": [
              "array([45, 56, 67, 78, 89, 91])"
            ]
          },
          "metadata": {},
          "execution_count": 114
        }
      ]
    },
    {
      "cell_type": "code",
      "source": [
        "arr[2:5]"
      ],
      "metadata": {
        "colab": {
          "base_uri": "https://localhost:8080/"
        },
        "id": "UpoJ9dr5bApU",
        "outputId": "b4bcadfd-16d5-4040-9116-ce207e4c228c"
      },
      "execution_count": null,
      "outputs": [
        {
          "output_type": "execute_result",
          "data": {
            "text/plain": [
              "array([34, 45, 56])"
            ]
          },
          "metadata": {},
          "execution_count": 115
        }
      ]
    },
    {
      "cell_type": "code",
      "source": [
        "arr[0:7:2]   #inicio, final, step"
      ],
      "metadata": {
        "colab": {
          "base_uri": "https://localhost:8080/"
        },
        "id": "mae8NijRbclH",
        "outputId": "4d1d9f31-53d1-4f6d-f3e3-4af8eb292891"
      },
      "execution_count": null,
      "outputs": [
        {
          "output_type": "execute_result",
          "data": {
            "text/plain": [
              "array([12, 34, 56, 78])"
            ]
          },
          "metadata": {},
          "execution_count": 117
        }
      ]
    },
    {
      "cell_type": "markdown",
      "source": [
        "Si omitimos *inicio* o *fin* significa desde el inicio o hasta el final respectivamente (todos):"
      ],
      "metadata": {
        "id": "1HgGGD9RbquX"
      }
    },
    {
      "cell_type": "code",
      "source": [
        "arr[2:]"
      ],
      "metadata": {
        "colab": {
          "base_uri": "https://localhost:8080/"
        },
        "id": "B_eGteJRbeUI",
        "outputId": "f42388fc-3b10-4f46-9599-2716f5bc1334"
      },
      "execution_count": null,
      "outputs": [
        {
          "output_type": "execute_result",
          "data": {
            "text/plain": [
              "array([34, 45, 56, 67, 78, 89, 91])"
            ]
          },
          "metadata": {},
          "execution_count": 118
        }
      ]
    },
    {
      "cell_type": "code",
      "source": [
        "arr[:3]"
      ],
      "metadata": {
        "colab": {
          "base_uri": "https://localhost:8080/"
        },
        "id": "rnV0GvEsbxIl",
        "outputId": "4eac30b6-8707-4121-e9aa-7892a924a0e8"
      },
      "execution_count": null,
      "outputs": [
        {
          "output_type": "execute_result",
          "data": {
            "text/plain": [
              "array([12, 23, 34])"
            ]
          },
          "metadata": {},
          "execution_count": 119
        }
      ]
    },
    {
      "cell_type": "markdown",
      "source": [
        "**Insertando, modificando y eliminando elementos**\n",
        "\n",
        "Los arreglos de NumPy son de tamaño fijo así que para insertar o eliminar elementos se debe crear un nuevo a arreglo.\n",
        "Para insertar elementos al final del arreglo utilizamos el método **append**:"
      ],
      "metadata": {
        "id": "ae3Az4VHcPx9"
      }
    },
    {
      "cell_type": "code",
      "source": [
        "arr = np.array([1, 2, 3])\n",
        "print(arr)"
      ],
      "metadata": {
        "id": "xV5mufAWbyOa",
        "colab": {
          "base_uri": "https://localhost:8080/"
        },
        "outputId": "9a34a90e-0f4b-4cad-c0af-b8a8ce058851"
      },
      "execution_count": null,
      "outputs": [
        {
          "output_type": "stream",
          "name": "stdout",
          "text": [
            "[1 2 3]\n"
          ]
        }
      ]
    },
    {
      "cell_type": "code",
      "source": [
        "# agregar un elemento\n",
        "np.append(arr, 4)"
      ],
      "metadata": {
        "colab": {
          "base_uri": "https://localhost:8080/"
        },
        "id": "P8B67OlpcW_z",
        "outputId": "47e46cf8-7bf8-4122-cc52-b409797292a5"
      },
      "execution_count": null,
      "outputs": [
        {
          "output_type": "execute_result",
          "data": {
            "text/plain": [
              "array([1, 2, 3, 4])"
            ]
          },
          "metadata": {},
          "execution_count": 122
        }
      ]
    },
    {
      "cell_type": "code",
      "source": [
        "# agregar una lista\n",
        "np.append(arr, [4, 5, 6])"
      ],
      "metadata": {
        "colab": {
          "base_uri": "https://localhost:8080/"
        },
        "id": "O1VxTf8AcY-T",
        "outputId": "2bdefe13-cc82-4507-bc6f-32cc0fb3be7b"
      },
      "execution_count": null,
      "outputs": [
        {
          "output_type": "execute_result",
          "data": {
            "text/plain": [
              "array([1, 2, 3, 4, 5, 6, 4, 5, 6])"
            ]
          },
          "metadata": {},
          "execution_count": 136
        }
      ]
    },
    {
      "cell_type": "markdown",
      "source": [
        "Recuerda que arr no se modifica cuando utilizamos append, debemos asignar el resultado a una nueva variable o reasignar la variable inicial:"
      ],
      "metadata": {
        "id": "mHsJaTj6ckNG"
      }
    },
    {
      "cell_type": "code",
      "source": [
        "arr"
      ],
      "metadata": {
        "colab": {
          "base_uri": "https://localhost:8080/"
        },
        "id": "jcXj5qF9ckmp",
        "outputId": "858146d7-2af2-4a25-b2a0-8b9039236f9d"
      },
      "execution_count": null,
      "outputs": [
        {
          "output_type": "execute_result",
          "data": {
            "text/plain": [
              "array([[1, 2, 3],\n",
              "       [4, 5, 6]])"
            ]
          },
          "metadata": {},
          "execution_count": 137
        }
      ]
    },
    {
      "cell_type": "code",
      "source": [
        "nuevo_arr = np.append(arr, [4, 5, 6])\n",
        "print(nuevo_arr)"
      ],
      "metadata": {
        "colab": {
          "base_uri": "https://localhost:8080/"
        },
        "id": "8zaq_RE5cmx7",
        "outputId": "6ece91b3-6341-44d4-d87f-aa8cd01cba1f"
      },
      "execution_count": null,
      "outputs": [
        {
          "output_type": "stream",
          "name": "stdout",
          "text": [
            "[1 2 3 4 5 6 4 5 6]\n"
          ]
        }
      ]
    },
    {
      "cell_type": "markdown",
      "source": [
        "Para insertar elementos en otras posiciones del arreglo podemos utilizar el método **insert**. \n",
        "\n",
        "Por ejemplo, para insertar el número 5 en la posición 1 haríamos lo siguiente:\n"
      ],
      "metadata": {
        "id": "Khk7HBgGcxTx"
      }
    },
    {
      "cell_type": "code",
      "source": [
        "arr = np.array([1, 2, 3])\n",
        "np.insert(arr, 1, 5)"
      ],
      "metadata": {
        "colab": {
          "base_uri": "https://localhost:8080/"
        },
        "id": "KipudLJtcrGN",
        "outputId": "a642670a-400e-4b21-c196-0337dd859264"
      },
      "execution_count": null,
      "outputs": [
        {
          "output_type": "execute_result",
          "data": {
            "text/plain": [
              "array([1, 5, 2, 3])"
            ]
          },
          "metadata": {},
          "execution_count": 139
        }
      ]
    },
    {
      "cell_type": "markdown",
      "source": [
        "Podemos modificar los elementos de un arreglo igual que lo haríamos con una lista:"
      ],
      "metadata": {
        "id": "Qi9V9GYNc9DS"
      }
    },
    {
      "cell_type": "code",
      "source": [
        "arr = np.array([1, 2, 3, 4])\n",
        "arr[2] = 100\n",
        "print(arr)"
      ],
      "metadata": {
        "colab": {
          "base_uri": "https://localhost:8080/"
        },
        "id": "EqGEwJglc29y",
        "outputId": "51cb1e64-3e0b-46eb-ec5e-4e4878b4755e"
      },
      "execution_count": null,
      "outputs": [
        {
          "output_type": "stream",
          "name": "stdout",
          "text": [
            "[  1   2 100   4]\n"
          ]
        }
      ]
    },
    {
      "cell_type": "markdown",
      "source": [
        "Para eliminar elementos de un arreglo podemos utilizar el método **delete**:"
      ],
      "metadata": {
        "id": "h47veMZ6dEvM"
      }
    },
    {
      "cell_type": "code",
      "source": [
        "arr = np.array([1, 2, 3, 4])\n",
        "np.delete(arr, 0)"
      ],
      "metadata": {
        "colab": {
          "base_uri": "https://localhost:8080/"
        },
        "id": "PM96SNuidBc3",
        "outputId": "7e7fe9e7-be6e-4ec6-9ec9-c58776397fc9"
      },
      "execution_count": null,
      "outputs": [
        {
          "output_type": "execute_result",
          "data": {
            "text/plain": [
              "array([2, 3, 4])"
            ]
          },
          "metadata": {},
          "execution_count": 141
        }
      ]
    },
    {
      "cell_type": "code",
      "source": [
        "# podemos utilizar un rango\n",
        "np.delete(arr, slice(1, 3))"
      ],
      "metadata": {
        "colab": {
          "base_uri": "https://localhost:8080/"
        },
        "id": "gI0NQ-HydI39",
        "outputId": "a07fb5df-c9ba-4dc9-bee0-bf9490d11ea5"
      },
      "execution_count": null,
      "outputs": [
        {
          "output_type": "execute_result",
          "data": {
            "text/plain": [
              "array([1, 4])"
            ]
          },
          "metadata": {},
          "execution_count": 142
        }
      ]
    },
    {
      "cell_type": "code",
      "source": [
        "# podemos utilizar una lista de índices\n",
        "np.delete(arr, [0, 2])"
      ],
      "metadata": {
        "colab": {
          "base_uri": "https://localhost:8080/"
        },
        "id": "9niscKOYdKwQ",
        "outputId": "5bf23606-20b8-4a9b-b847-4223a95a2787"
      },
      "execution_count": null,
      "outputs": [
        {
          "output_type": "execute_result",
          "data": {
            "text/plain": [
              "array([2, 4])"
            ]
          },
          "metadata": {},
          "execution_count": 148
        }
      ]
    },
    {
      "cell_type": "markdown",
      "source": [
        "#Los ejercicios que dejamos antes colgados\n",
        "\n",
        "*   Crear un array z2 3x4 lleno de ceros salvo la primera fila que serán todo unos. \n",
        "*   Crear un array z3 3x4 lleno de ceros salvo la última fila que será el rango entre 5 y 8."
      ],
      "metadata": {
        "id": "2aLXd9MhG4ez"
      }
    },
    {
      "cell_type": "code",
      "source": [
        "#Crear un array z2 3x4 lleno de ceros salvo la primera fila que serán todo unos. \n",
        "\n",
        "z2 = np.zeros([3,4])\n",
        "print(z2)\n",
        "print(' ')\n",
        "\n",
        "z2[0, : ] = 1  #modifico los elementos de la fila 0, en TODAS las columnas (pues hay un \":\" sin inicio ni final)\n",
        "print(z2)"
      ],
      "metadata": {
        "id": "Cb-MPWFeG7FM"
      },
      "execution_count": null,
      "outputs": []
    },
    {
      "cell_type": "code",
      "source": [
        "#Crear un array z3 3x4 lleno de ceros salvo la última fila que será el rango entre 5 y 8.\n",
        "z3=np.zeros([3,4])\n",
        "print(z3)\n",
        "print(' ')\n",
        "\n",
        "z3[2, : ] = [5, 6, 7, 8]   # otra forma de hacer esto es poner      z3[2, : ] =  np.arange(5,9)\n",
        "print(z3)"
      ],
      "metadata": {
        "id": "vM6i7A2cHQ1I"
      },
      "execution_count": null,
      "outputs": []
    },
    {
      "cell_type": "code",
      "source": [
        "# Ejemplo para reemplazar determinadas filas y columnas\n",
        "a=np.zeros([3,4])\n",
        "print(a)\n",
        "print(' ')\n",
        "\n",
        "a[1:3, 1:3 ] = [[5, 6],     \n",
        "                [4, 3]]   \n",
        "print(a)"
      ],
      "metadata": {
        "colab": {
          "base_uri": "https://localhost:8080/"
        },
        "id": "TYqKpR2yINhU",
        "outputId": "05b86de7-af12-4a7c-978e-a74973d83c74"
      },
      "execution_count": null,
      "outputs": [
        {
          "output_type": "stream",
          "name": "stdout",
          "text": [
            "[[0. 0. 0. 0.]\n",
            " [0. 0. 0. 0.]\n",
            " [0. 0. 0. 0.]]\n",
            " \n",
            "[[0. 0. 0. 0.]\n",
            " [0. 5. 6. 0.]\n",
            " [0. 4. 3. 0.]]\n"
          ]
        }
      ]
    },
    {
      "cell_type": "markdown",
      "source": [
        "#Seguimos "
      ],
      "metadata": {
        "id": "GZMOPo7gH02s"
      }
    },
    {
      "cell_type": "markdown",
      "source": [
        "**Operaciones matemáticas**"
      ],
      "metadata": {
        "id": "v0qiETI1dny8"
      }
    },
    {
      "cell_type": "code",
      "source": [
        "arr = np.array([1, 2, 3])"
      ],
      "metadata": {
        "id": "mDw00v4edLtY"
      },
      "execution_count": null,
      "outputs": []
    },
    {
      "cell_type": "code",
      "source": [
        "# sumar\n",
        "arr + 3"
      ],
      "metadata": {
        "colab": {
          "base_uri": "https://localhost:8080/"
        },
        "id": "4vRkBjQddtNR",
        "outputId": "259c4230-c754-48ed-cd3c-1f3cdc8f2b14"
      },
      "execution_count": null,
      "outputs": [
        {
          "output_type": "execute_result",
          "data": {
            "text/plain": [
              "array([4, 5, 6])"
            ]
          },
          "metadata": {},
          "execution_count": 161
        }
      ]
    },
    {
      "cell_type": "code",
      "source": [
        "# multiplicar\n",
        "arr * 2 "
      ],
      "metadata": {
        "colab": {
          "base_uri": "https://localhost:8080/"
        },
        "id": "dLY8NPPedz07",
        "outputId": "4c8e11e4-0cc9-4216-a475-93f4a48590e2"
      },
      "execution_count": null,
      "outputs": [
        {
          "output_type": "execute_result",
          "data": {
            "text/plain": [
              "array([2, 4, 6])"
            ]
          },
          "metadata": {},
          "execution_count": 162
        }
      ]
    },
    {
      "cell_type": "markdown",
      "source": [
        "Las operaciones también pueden ser con otros arreglos de NumPy. Por ejemplo:"
      ],
      "metadata": {
        "id": "ge0kRR4PeFNn"
      }
    },
    {
      "cell_type": "code",
      "source": [
        "a = np.array([1, 2, 3, 4, 5])\n",
        "b = np.array([6, 7, 8, 9, 10])\n",
        "\n",
        "c = a + b\n",
        "print(c)"
      ],
      "metadata": {
        "colab": {
          "base_uri": "https://localhost:8080/"
        },
        "id": "SQtRLhf6eEpR",
        "outputId": "e4c2ce24-015c-4f10-f809-3ab1eeaff720"
      },
      "execution_count": null,
      "outputs": [
        {
          "output_type": "stream",
          "name": "stdout",
          "text": [
            "[ 7  9 11 13 15]\n"
          ]
        }
      ]
    },
    {
      "cell_type": "markdown",
      "source": [
        "Cuando realizas operaciones matemáticas entre arreglos, los dos arreglos deben tener la misma longitud. De lo contrario se genera un error. Por ejemplo:"
      ],
      "metadata": {
        "id": "g1fZbjxgeW83"
      }
    },
    {
      "cell_type": "code",
      "source": [
        "a = np.array([1, 2, 3, 4, 5])\n",
        "b = np.array([6, 7, 8])\n",
        "\n",
        "a + b"
      ],
      "metadata": {
        "colab": {
          "base_uri": "https://localhost:8080/",
          "height": 205
        },
        "id": "oEEw-9OGd25O",
        "outputId": "f853d926-b0e0-491d-9a58-2cce669db01e"
      },
      "execution_count": null,
      "outputs": [
        {
          "output_type": "error",
          "ename": "ValueError",
          "evalue": "ignored",
          "traceback": [
            "\u001b[0;31m---------------------------------------------------------------------------\u001b[0m",
            "\u001b[0;31mValueError\u001b[0m                                Traceback (most recent call last)",
            "\u001b[0;32m<ipython-input-164-73972ce063ff>\u001b[0m in \u001b[0;36m<module>\u001b[0;34m\u001b[0m\n\u001b[1;32m      2\u001b[0m \u001b[0mb\u001b[0m \u001b[0;34m=\u001b[0m \u001b[0mnp\u001b[0m\u001b[0;34m.\u001b[0m\u001b[0marray\u001b[0m\u001b[0;34m(\u001b[0m\u001b[0;34m[\u001b[0m\u001b[0;36m6\u001b[0m\u001b[0;34m,\u001b[0m \u001b[0;36m7\u001b[0m\u001b[0;34m,\u001b[0m \u001b[0;36m8\u001b[0m\u001b[0;34m]\u001b[0m\u001b[0;34m)\u001b[0m\u001b[0;34m\u001b[0m\u001b[0;34m\u001b[0m\u001b[0m\n\u001b[1;32m      3\u001b[0m \u001b[0;34m\u001b[0m\u001b[0m\n\u001b[0;32m----> 4\u001b[0;31m \u001b[0ma\u001b[0m \u001b[0;34m+\u001b[0m \u001b[0mb\u001b[0m\u001b[0;34m\u001b[0m\u001b[0;34m\u001b[0m\u001b[0m\n\u001b[0m",
            "\u001b[0;31mValueError\u001b[0m: operands could not be broadcast together with shapes (5,) (3,) "
          ]
        }
      ]
    },
    {
      "cell_type": "markdown",
      "source": [
        "Cuando aplicamos operaciones lógicas sobre los arreglos, cada elemento es evaluado y se genera un nuevo arreglo de booleanos:"
      ],
      "metadata": {
        "id": "SZbxFGlCeihN"
      }
    },
    {
      "cell_type": "code",
      "source": [
        "arr = np.array([10, 2, 2, 4, 5, 3, 9, 8, 9, 7])\n",
        "arr > 5"
      ],
      "metadata": {
        "colab": {
          "base_uri": "https://localhost:8080/"
        },
        "id": "hgdLcsP1ecJO",
        "outputId": "ea7b6c58-bb0a-4a0b-d400-c57aa6284c6b"
      },
      "execution_count": null,
      "outputs": [
        {
          "output_type": "execute_result",
          "data": {
            "text/plain": [
              "array([ True, False, False, False, False, False,  True,  True,  True,\n",
              "        True])"
            ]
          },
          "metadata": {},
          "execution_count": 50
        }
      ]
    },
    {
      "cell_type": "markdown",
      "source": [
        "**Otras operaciones comunes**"
      ],
      "metadata": {
        "id": "p5wCQactevbQ"
      }
    },
    {
      "cell_type": "code",
      "source": [
        "arr = np.array([1, 2, 3, 4])\n",
        "\n",
        "# Dividir en partes iguales\n",
        "np.split(arr, 2)"
      ],
      "metadata": {
        "colab": {
          "base_uri": "https://localhost:8080/"
        },
        "id": "VDCxlFhselHD",
        "outputId": "0207d786-b113-4e1f-9e7f-f54538626449"
      },
      "execution_count": null,
      "outputs": [
        {
          "output_type": "execute_result",
          "data": {
            "text/plain": [
              "[array([1, 2]), array([3, 4])]"
            ]
          },
          "metadata": {},
          "execution_count": 166
        }
      ]
    },
    {
      "cell_type": "code",
      "source": [
        "arr = np.array([5, 2, 8, 7])\n",
        "\n",
        "# Ordenar (retorna un nuevo arreglo)\n",
        "ordenado = np.sort(arr)\n",
        "\n",
        "print(arr)          #no se modifica el arreglo original!!!\n",
        "print(ordenado)"
      ],
      "metadata": {
        "colab": {
          "base_uri": "https://localhost:8080/"
        },
        "id": "riUtAhRfe4--",
        "outputId": "8c64d52d-5564-4e0d-b63d-37f1d07d1945"
      },
      "execution_count": null,
      "outputs": [
        {
          "output_type": "stream",
          "name": "stdout",
          "text": [
            "[5 2 8 7]\n",
            "[2 5 7 8]\n"
          ]
        }
      ]
    },
    {
      "cell_type": "code",
      "source": [
        "arr = [1, 1, 2, 2, 3, 3]\n",
        "\n",
        "# Obtener los elementos únicos\n",
        "np.unique(arr)"
      ],
      "metadata": {
        "colab": {
          "base_uri": "https://localhost:8080/"
        },
        "id": "MWo3Mg-8e-JR",
        "outputId": "15e35c77-ba0d-4213-ed9a-8b789f2c9ba4"
      },
      "execution_count": null,
      "outputs": [
        {
          "output_type": "execute_result",
          "data": {
            "text/plain": [
              "array([1, 2, 3])"
            ]
          },
          "metadata": {},
          "execution_count": 170
        }
      ]
    },
    {
      "cell_type": "code",
      "source": [
        "arr = np.array([1, 2, 3, 4])\n",
        "\n",
        "# Obtener el promedio\n",
        "np.mean(arr)"
      ],
      "metadata": {
        "colab": {
          "base_uri": "https://localhost:8080/"
        },
        "id": "bM18EopgfDD0",
        "outputId": "445fef29-dc2e-4ab3-bf59-804a3faf22a5"
      },
      "execution_count": null,
      "outputs": [
        {
          "output_type": "execute_result",
          "data": {
            "text/plain": [
              "2.5"
            ]
          },
          "metadata": {},
          "execution_count": 171
        }
      ]
    },
    {
      "cell_type": "markdown",
      "source": [
        "**Tamaños del arreglo:**\n",
        "\n",
        "Para conocer el número de elementos de un arreglo usamos el atributo **size**"
      ],
      "metadata": {
        "id": "QvpiFpLcfcEY"
      }
    },
    {
      "cell_type": "code",
      "source": [
        "arr = np.array([\n",
        "  [1, 2],\n",
        "  [3, 4]\n",
        "])"
      ],
      "metadata": {
        "id": "Exn7sjI2fG2f"
      },
      "execution_count": null,
      "outputs": []
    },
    {
      "cell_type": "code",
      "source": [
        "print(arr.size)         #cantidad de elementos\n",
        "print(arr.shape)        #forma del arreglo"
      ],
      "metadata": {
        "colab": {
          "base_uri": "https://localhost:8080/"
        },
        "id": "2qy7ZBhkfWl8",
        "outputId": "2252f396-5cd2-4af8-c561-bc7155c81865"
      },
      "execution_count": null,
      "outputs": [
        {
          "output_type": "stream",
          "name": "stdout",
          "text": [
            "4\n",
            "(4,)\n"
          ]
        }
      ]
    },
    {
      "cell_type": "markdown",
      "source": [
        "Sin embargo, a veces es útil también saber la forma de un arreglo, es decir, la longitud de cada una de las dimensiones. Para esto podemos utilizar el atributo **shape**:"
      ],
      "metadata": {
        "id": "LIxYk2dGfwpe"
      }
    },
    {
      "cell_type": "code",
      "source": [
        "arr.shape"
      ],
      "metadata": {
        "colab": {
          "base_uri": "https://localhost:8080/"
        },
        "id": "SIXmmhcCfkae",
        "outputId": "54ffaa04-232a-496d-bb28-228ee08cbb9a"
      },
      "execution_count": null,
      "outputs": [
        {
          "output_type": "execute_result",
          "data": {
            "text/plain": [
              "(2, 2)"
            ]
          },
          "metadata": {},
          "execution_count": 57
        }
      ]
    },
    {
      "cell_type": "markdown",
      "source": [
        "![matriz](https://raw.githubusercontent.com/gersongams/CursoPython/3d060c0cb9fea55e2fd2318563124d5698d88e30/images/matrizslice.png)"
      ],
      "metadata": {
        "id": "3635KC0yloOJ"
      }
    },
    {
      "cell_type": "markdown",
      "source": [
        "**Cambiando la forma de un arreglo**\n",
        "\n",
        "Para cambiar la forma de un arreglo utilizamos el método reshape. Por ejemplo, aunque el método arange no permite especificar la forma, podemos cambiar la forma con **reshape**:"
      ],
      "metadata": {
        "id": "sXll3hHpgJEn"
      }
    },
    {
      "cell_type": "code",
      "source": [
        "arr = np.arange(6)\n",
        "print(arr)"
      ],
      "metadata": {
        "id": "T2_LPQmOf39D",
        "colab": {
          "base_uri": "https://localhost:8080/"
        },
        "outputId": "d6be9cc1-a1f8-4c70-94c6-5d2bcb5efd00"
      },
      "execution_count": null,
      "outputs": [
        {
          "output_type": "stream",
          "name": "stdout",
          "text": [
            "[0 1 2 3 4 5]\n"
          ]
        }
      ]
    },
    {
      "cell_type": "code",
      "source": [
        "print(arr)\n",
        "print(' ')\n",
        "a = arr.reshape((2, 3)) #cambio las dimensiones del arreglo de 6x1 a 3x2\n",
        "print(a)\n",
        "print(' ')\n",
        "b = a.reshape(6)\n",
        "print(b)"
      ],
      "metadata": {
        "id": "zfnSXwsBgSe7"
      },
      "execution_count": null,
      "outputs": []
    },
    {
      "cell_type": "code",
      "source": [
        "# o en una sola línea\n",
        "np.arange(6).reshape((3, 2))"
      ],
      "metadata": {
        "id": "R4IvgH9VgT2E"
      },
      "execution_count": null,
      "outputs": []
    },
    {
      "cell_type": "markdown",
      "source": [
        "Obteniendo valores de un arreglo multidimensional\n",
        "Para obtener los valores de un arreglo multidimensional debemos especificar los índices en cada dimensión. Por ejemplo, para obtener un valor en un arreglo de dos dimensiones debemos pasar dos índices:"
      ],
      "metadata": {
        "id": "4RYQybolgn7g"
      }
    },
    {
      "cell_type": "code",
      "source": [
        "arr = np.array([\n",
        "  [1, 2],\n",
        "  [3, 4]\n",
        "])"
      ],
      "metadata": {
        "id": "AnBbaV4GgWch"
      },
      "execution_count": null,
      "outputs": []
    },
    {
      "cell_type": "code",
      "source": [
        "arr[0, 0]"
      ],
      "metadata": {
        "colab": {
          "base_uri": "https://localhost:8080/"
        },
        "id": "NRUbPpO0gr27",
        "outputId": "a50fd99c-3556-4964-c90b-017e1d7bd69c"
      },
      "execution_count": null,
      "outputs": [
        {
          "output_type": "execute_result",
          "data": {
            "text/plain": [
              "1"
            ]
          },
          "metadata": {},
          "execution_count": 191
        }
      ]
    },
    {
      "cell_type": "code",
      "source": [
        "arr[1, 0]"
      ],
      "metadata": {
        "colab": {
          "base_uri": "https://localhost:8080/"
        },
        "id": "N8KMkqHogtb4",
        "outputId": "da78538c-6edc-458f-a300-98196d3eda2f"
      },
      "execution_count": null,
      "outputs": [
        {
          "output_type": "execute_result",
          "data": {
            "text/plain": [
              "3"
            ]
          },
          "metadata": {},
          "execution_count": 192
        }
      ]
    },
    {
      "cell_type": "markdown",
      "source": [
        "Si queremos seleccionar la columna entera pasamos dos puntos (:) como primer índice:"
      ],
      "metadata": {
        "id": "wMELbYcBg13N"
      }
    },
    {
      "cell_type": "code",
      "source": [
        "arr[:,0]"
      ],
      "metadata": {
        "colab": {
          "base_uri": "https://localhost:8080/"
        },
        "id": "a1egS-bggx58",
        "outputId": "fc02ba11-d40f-4527-9681-2cd92929e2dc"
      },
      "execution_count": null,
      "outputs": [
        {
          "output_type": "execute_result",
          "data": {
            "text/plain": [
              "array([1, 3])"
            ]
          },
          "metadata": {},
          "execution_count": 64
        }
      ]
    },
    {
      "cell_type": "markdown",
      "source": [
        "Si queremos seleccionar la fila entera pasamos dos puntos (:) como segundo índice:"
      ],
      "metadata": {
        "id": "CbzLCwDJhAhQ"
      }
    },
    {
      "cell_type": "code",
      "source": [
        "arr[1,:]"
      ],
      "metadata": {
        "colab": {
          "base_uri": "https://localhost:8080/"
        },
        "id": "Aorq0xHMg6ha",
        "outputId": "83feffba-4c38-46a0-d263-ccd4427651c0"
      },
      "execution_count": null,
      "outputs": [
        {
          "output_type": "execute_result",
          "data": {
            "text/plain": [
              "array([3, 4])"
            ]
          },
          "metadata": {},
          "execution_count": 193
        }
      ]
    },
    {
      "cell_type": "code",
      "source": [
        "arr = np.array([\n",
        "  [1, 2, 3],\n",
        "  [4, 5, 6],\n",
        "  [7, 8, 9]\n",
        "])\n",
        "\n",
        "arr[1:, :2]"
      ],
      "metadata": {
        "colab": {
          "base_uri": "https://localhost:8080/"
        },
        "id": "WtGSqBHqhD2V",
        "outputId": "b56ffb8c-b60c-42e6-8921-dc39c1e2d2c0"
      },
      "execution_count": null,
      "outputs": [
        {
          "output_type": "execute_result",
          "data": {
            "text/plain": [
              "array([[4, 5],\n",
              "       [7, 8]])"
            ]
          },
          "metadata": {},
          "execution_count": 66
        }
      ]
    },
    {
      "cell_type": "markdown",
      "source": [
        "**Ejercicio:**\n",
        "\n",
        "*   Crea un vector de 10 elementos, siendo los impares unos y los pares doses.\n",
        "*   Crea un «tablero de ajedrez», con unos en las casillas negras y ceros en las blancas.\n",
        "\n"
      ],
      "metadata": {
        "id": "VWtq0935pZxF"
      }
    },
    {
      "cell_type": "code",
      "source": [
        "# Crea un vector de 10 elementos, siendo los impares unos y los pares doses.\n",
        "vector = np.ones(10)    # Creo un vector de \"1\", pues es uno de los valores que necesito.\n",
        "print(vector)           # Muestro el vector.\n",
        "vector[0:11:2] = 2      # Voy reemplazando desde el elemento cero hasta el 10 (recordar que se pone uno mas como final, por eso el 11).\n",
        "                        # Elegimos un paso de 2 pues queremos que reemplace un elemento si, un elemento no.\n",
        "                        # Recordar siempre (start:stop:step)\n",
        "print(' ')\n",
        "print(vector)           #Muestro el vector modificado."
      ],
      "metadata": {
        "colab": {
          "base_uri": "https://localhost:8080/"
        },
        "id": "sK-rz_QcQsox",
        "outputId": "97f9afa8-c529-4964-86b2-19f6a9021b80"
      },
      "execution_count": null,
      "outputs": [
        {
          "output_type": "stream",
          "name": "stdout",
          "text": [
            "[1. 1. 1. 1. 1. 1. 1. 1. 1. 1.]\n",
            " \n",
            "[2. 1. 2. 1. 2. 1. 2. 1. 2. 1.]\n"
          ]
        }
      ]
    },
    {
      "cell_type": "code",
      "source": [
        "# Crea un «tablero de ajedrez», con unos en las casillas negras y ceros en las blancas.\n",
        "\n",
        "#La idea es primero crear el tablero, luego generar un vector para fila par y otro para fila impar.\n",
        "#Luego se reemplaza en el tablero fila par y fila impar intercaladas.\n",
        "\n",
        "ajedrez = np.ones([8,8])    # Genero el tablero. \n",
        "print(ajedrez)              # Muestro el tablero."
      ],
      "metadata": {
        "colab": {
          "base_uri": "https://localhost:8080/"
        },
        "id": "5v-TV-ZkVihE",
        "outputId": "d4f216ff-796f-46ae-dc60-9ade71dfdfbe"
      },
      "execution_count": null,
      "outputs": [
        {
          "output_type": "stream",
          "name": "stdout",
          "text": [
            "[[1. 1. 1. 1. 1. 1. 1. 1.]\n",
            " [1. 1. 1. 1. 1. 1. 1. 1.]\n",
            " [1. 1. 1. 1. 1. 1. 1. 1.]\n",
            " [1. 1. 1. 1. 1. 1. 1. 1.]\n",
            " [1. 1. 1. 1. 1. 1. 1. 1.]\n",
            " [1. 1. 1. 1. 1. 1. 1. 1.]\n",
            " [1. 1. 1. 1. 1. 1. 1. 1.]\n",
            " [1. 1. 1. 1. 1. 1. 1. 1.]]\n"
          ]
        }
      ]
    },
    {
      "cell_type": "code",
      "source": [
        "fila_par = np.zeros(8)  # Creo un vector que sera la fila par con base de \"0\".\n",
        "fila_par[1:9:2] = 1     # Reemplazo elementos intercalados con \"1\". El primer elemento lo dejo como cero (comienzo de la posicion 1).\n",
        "print(fila_par)         # Muestro la fila par."
      ],
      "metadata": {
        "colab": {
          "base_uri": "https://localhost:8080/"
        },
        "id": "y2ZZxRN9Szvj",
        "outputId": "6192ad1e-b42f-4b4c-d12f-c736c362047f"
      },
      "execution_count": null,
      "outputs": [
        {
          "output_type": "stream",
          "name": "stdout",
          "text": [
            "[0. 1. 0. 1. 0. 1. 0. 1.]\n"
          ]
        }
      ]
    },
    {
      "cell_type": "code",
      "source": [
        "fila_impar = np.zeros(8) # Creo un vector que sera la fila par con base de \"0\".\n",
        "fila_impar[0:9:2] = 1    # Reemplazo elementos intercalados con \"1\". \n",
        "print(fila_impar)        # Muestro la fila impar."
      ],
      "metadata": {
        "colab": {
          "base_uri": "https://localhost:8080/"
        },
        "id": "jbJnEvJAUFqf",
        "outputId": "e069b1d8-86e9-47d9-8010-1aae5f0a5a27"
      },
      "execution_count": null,
      "outputs": [
        {
          "output_type": "stream",
          "name": "stdout",
          "text": [
            "[1. 0. 1. 0. 1. 0. 1. 0.]\n"
          ]
        }
      ]
    },
    {
      "cell_type": "code",
      "source": [
        "for index in range(0,8):            # Recorro todas las columnas del ajedrez. \n",
        "    if ((index % 2) == 0 ):         # Si el indice es par...\n",
        "        ajedrez[index]=fila_par     # ...reemplazo la fila par.\n",
        "    else:                           # Si el indice es impar....\n",
        "        ajedrez[index]=fila_impar   # ...reemplazo la fila impar.\n",
        "\n",
        "print(ajedrez)                      # Muestro el ajedrez final."
      ],
      "metadata": {
        "colab": {
          "base_uri": "https://localhost:8080/"
        },
        "id": "MznMoXSCVueJ",
        "outputId": "5ce7f368-5060-4493-ec81-fa29cc0c463f"
      },
      "execution_count": null,
      "outputs": [
        {
          "output_type": "stream",
          "name": "stdout",
          "text": [
            "[[0. 1. 0. 1. 0. 1. 0. 1.]\n",
            " [1. 0. 1. 0. 1. 0. 1. 0.]\n",
            " [0. 1. 0. 1. 0. 1. 0. 1.]\n",
            " [1. 0. 1. 0. 1. 0. 1. 0.]\n",
            " [0. 1. 0. 1. 0. 1. 0. 1.]\n",
            " [1. 0. 1. 0. 1. 0. 1. 0.]\n",
            " [0. 1. 0. 1. 0. 1. 0. 1.]\n",
            " [1. 0. 1. 0. 1. 0. 1. 0.]]\n"
          ]
        }
      ]
    },
    {
      "cell_type": "markdown",
      "source": [
        "**Funciones estadísticas:**\n",
        "\n",
        "**Media o promedio**\n",
        "\n",
        "El primer concepto estadístico que exploramos será la media (mean), comúnmente conocida como el promedio. Es útil para obtener el centro de un dataset. NumPy incluye una función para calcular la media de los arreglos: np.mean."
      ],
      "metadata": {
        "id": "RJSTOo7AjP0s"
      }
    },
    {
      "cell_type": "code",
      "source": [
        "arr = np.array([5, 10.4, 4, 3, 6.6])\n",
        "np.mean(arr)"
      ],
      "metadata": {
        "colab": {
          "base_uri": "https://localhost:8080/"
        },
        "id": "y5SoSYT-jVYG",
        "outputId": "6018f9e7-6d64-4cce-a54d-7f66291c9d05"
      },
      "execution_count": null,
      "outputs": [
        {
          "output_type": "execute_result",
          "data": {
            "text/plain": [
              "5.8"
            ]
          },
          "metadata": {},
          "execution_count": 67
        }
      ]
    },
    {
      "cell_type": "markdown",
      "source": [
        "**Redondeando**\n",
        "\n",
        "Podemos redondear la media a un número específico de puntos decimales? Sí, podemos usar la función de Python round() el cual recibe dos parámetros: número a redondear y número de decimales. NumPy nos provee también una forma de redondear cada valor en un array a través de la función np.round(). Funciona similar al round de python porque recibe ambos parámetros."
      ],
      "metadata": {
        "id": "ECoIWHHPjhLi"
      }
    },
    {
      "cell_type": "code",
      "source": [
        "# redondeando un número con Python\n",
        "numero = 1.234\n",
        "print(round(numero, 2))\n",
        "print(round(numero))"
      ],
      "metadata": {
        "colab": {
          "base_uri": "https://localhost:8080/"
        },
        "id": "Rc14wOJfjVbJ",
        "outputId": "a49dd5ef-2a8f-4ab5-e04f-5faaefdcfae6"
      },
      "execution_count": null,
      "outputs": [
        {
          "output_type": "stream",
          "name": "stdout",
          "text": [
            "1.23\n",
            "1\n"
          ]
        }
      ]
    },
    {
      "cell_type": "code",
      "source": [
        "# redondeando un array con NumPy\n",
        "array = np.array([1.11, 2.22, 3.33, 4.44])\n",
        "print(np.round(array, 1))"
      ],
      "metadata": {
        "colab": {
          "base_uri": "https://localhost:8080/"
        },
        "id": "DRihr0jcjVeB",
        "outputId": "f7ac417e-ee67-4d08-ad17-d7bb40084dd7"
      },
      "execution_count": null,
      "outputs": [
        {
          "output_type": "stream",
          "name": "stdout",
          "text": [
            "[1.1 2.2 3.3 4.4]\n"
          ]
        }
      ]
    },
    {
      "cell_type": "markdown",
      "source": [
        "**Media de los valores**\n",
        "\n",
        "Que pasa si queremos obtener la media de los valores en vez del porcentaje de valores, que satisfacen una condición? por demos hacerlo así:\n",
        "Digamos que tenemos un array de temperaturas desde -20 hasta 50 y queremos obtener el promedio de temperaturas mayores a 10."
      ],
      "metadata": {
        "id": "bGaDJrDtj4Er"
      }
    },
    {
      "cell_type": "code",
      "source": [
        "temperaturas = np.array(list(range(-20, 55, 5)))\n",
        "temperaturas"
      ],
      "metadata": {
        "colab": {
          "base_uri": "https://localhost:8080/"
        },
        "id": "5XMEvvvyjVgo",
        "outputId": "983e2d4e-335f-468d-b103-cab69837ad79"
      },
      "execution_count": null,
      "outputs": [
        {
          "output_type": "execute_result",
          "data": {
            "text/plain": [
              "array([-20, -15, -10,  -5,   0,   5,  10,  15,  20,  25,  30,  35,  40,\n",
              "        45,  50])"
            ]
          },
          "metadata": {},
          "execution_count": 195
        }
      ]
    },
    {
      "cell_type": "markdown",
      "source": [
        "Primero seleccionamos los datos específicos basados en una condición, el cual creará un nuevo array para todas las temperaturas mayores a 10 temperaturas[temperaturas > 10]\n",
        "\n",
        "Finalmente aplicamos la función np.mean() a estos datos, y nos dará la media de los valores que cumplen con ese condicional:"
      ],
      "metadata": {
        "id": "qIcrS8G7kA7-"
      }
    },
    {
      "cell_type": "code",
      "source": [
        "temperaturas = np.array(list(range(-20, 55, 5)))\n",
        "np.mean(temperaturas[temperaturas > 10])"
      ],
      "metadata": {
        "colab": {
          "base_uri": "https://localhost:8080/"
        },
        "id": "15_3yAVpj9xO",
        "outputId": "55e0286e-5c26-4582-914c-7ad270d6fe86"
      },
      "execution_count": null,
      "outputs": [
        {
          "output_type": "execute_result",
          "data": {
            "text/plain": [
              "32.5"
            ]
          },
          "metadata": {},
          "execution_count": 196
        }
      ]
    },
    {
      "cell_type": "code",
      "source": [
        "#desglose de la ultima linea del bloque anterior\n",
        "print(temperaturas)\n",
        "print(' ')\n",
        "condicion = (temperaturas>10)\n",
        "print(condicion)\n",
        "print(' ')\n",
        "temperaturas_mayor_a_10=temperaturas[condicion]\n",
        "print(temperaturas_mayor_a_10)\n",
        "print(' ')\n",
        "print(np.mean(temperaturas_mayor_a_10))"
      ],
      "metadata": {
        "colab": {
          "base_uri": "https://localhost:8080/"
        },
        "id": "x0HQ8X1XMo9c",
        "outputId": "f0517c63-a780-4048-f594-6e54893b9907"
      },
      "execution_count": null,
      "outputs": [
        {
          "output_type": "stream",
          "name": "stdout",
          "text": [
            "[-20 -15 -10  -5   0   5  10  15  20  25  30  35  40  45  50]\n",
            " \n",
            "[False False False False False False False  True  True  True  True  True\n",
            "  True  True  True]\n",
            " \n",
            "[15 20 25 30 35 40 45 50]\n",
            " \n",
            "32.5\n"
          ]
        }
      ]
    },
    {
      "cell_type": "markdown",
      "source": [
        "**Mediana**\n",
        "\n",
        "Otra métrica importante que podemos usar para el análisis de datos es la mediana (median). La mediana es el valor del medio de un set de datos que ha sido ordenado en términos de magnitud (del más pequeño al más grande)\n",
        "Si el largo del set de datos es un número impar, la mediana sería el valor central (recuerde que la lista debe estar primero ordenada de menor a mayor). Así que en el siguiente ejemplo, la mediana sería 3"
      ],
      "metadata": {
        "id": "9SRvxnhQkNHP"
      }
    },
    {
      "cell_type": "code",
      "source": [
        "numeros = [1, 1, 2, 3, 4, 5, 5]\n",
        "numeros = np.array(numeros)\n",
        "\n",
        "np.median(numeros)"
      ],
      "metadata": {
        "colab": {
          "base_uri": "https://localhost:8080/"
        },
        "id": "Wwx9fsEcj95v",
        "outputId": "536903e1-3377-44fc-d356-4ba6fbc72c06"
      },
      "execution_count": null,
      "outputs": [
        {
          "output_type": "execute_result",
          "data": {
            "text/plain": [
              "3.0"
            ]
          },
          "metadata": {},
          "execution_count": 72
        }
      ]
    },
    {
      "cell_type": "markdown",
      "source": [
        "Si el largo del set de datos es un número par, la mediana sería el valor a medio camino entre los dos valores centrales. Así que en el siguiente ejemplo, la mediana sería 3.5"
      ],
      "metadata": {
        "id": "hU6deZyAkXWK"
      }
    },
    {
      "cell_type": "code",
      "source": [
        "numeros = [1, 1, 2, 3, 4, 5, 5, 6]\n",
        "numeros = np.array(numeros)\n",
        "\n",
        "np.median(numeros)"
      ],
      "metadata": {
        "colab": {
          "base_uri": "https://localhost:8080/"
        },
        "id": "T44PTUzakYPs",
        "outputId": "07b34c03-b3ee-4668-efc9-009408a40ad1"
      },
      "execution_count": null,
      "outputs": [
        {
          "output_type": "execute_result",
          "data": {
            "text/plain": [
              "3.5"
            ]
          },
          "metadata": {},
          "execution_count": 73
        }
      ]
    },
    {
      "cell_type": "markdown",
      "source": [
        "Diferencias entre la Media y la Mediana:\n",
        "\n",
        "Algunas veces estos dos valores serán muy similares según el set de datos, pero son diferentes y representan conceptos diferentes. La mediana retorna el valor en una posición central de un dataset ordenado. Si el largo del dataset es par, será el promedio de los dos valores del medio. Es conocido también como el \"50th percentile\". La media es el promedio de todos los valores del set de datos."
      ],
      "metadata": {
        "id": "XzLRe2MhkqfE"
      }
    },
    {
      "cell_type": "code",
      "source": [
        "valores = [1, 1, 1, 2, 900]\n",
        "valores = np.array(valores)"
      ],
      "metadata": {
        "id": "ZtnS16u4ksZq"
      },
      "execution_count": null,
      "outputs": []
    },
    {
      "cell_type": "code",
      "source": [
        "np.mean(valores)"
      ],
      "metadata": {
        "colab": {
          "base_uri": "https://localhost:8080/"
        },
        "id": "zR45fOkMk0ll",
        "outputId": "aaf8334a-3b40-4931-8a18-070febf0d3ba"
      },
      "execution_count": null,
      "outputs": [
        {
          "output_type": "execute_result",
          "data": {
            "text/plain": [
              "181.0"
            ]
          },
          "metadata": {},
          "execution_count": 75
        }
      ]
    },
    {
      "cell_type": "code",
      "source": [
        "np.median(valores)"
      ],
      "metadata": {
        "colab": {
          "base_uri": "https://localhost:8080/"
        },
        "id": "aaZszXiSk2ix",
        "outputId": "5d02d8c0-497d-432c-ee51-5bba7b1d8097"
      },
      "execution_count": null,
      "outputs": [
        {
          "output_type": "execute_result",
          "data": {
            "text/plain": [
              "1.0"
            ]
          },
          "metadata": {},
          "execution_count": 76
        }
      ]
    },
    {
      "cell_type": "markdown",
      "source": [
        "**Broadcasting**\n",
        "\n",
        "Broadcasting es un potente mecanismo que permite a numpy trabajar con matrices de diferentes formas al realizar operaciones aritméticas. Con frecuencia tenemos una matriz más pequeña y una matriz más grande, y queremos usar la matriz más pequeña varias veces para realizar alguna operación en la matriz más grande.\n",
        "\n",
        "![Broadcasting](https://raw.githubusercontent.com/gersongams/CursoPython/3d060c0cb9fea55e2fd2318563124d5698d88e30/images/numpy_broadcasting.png)"
      ],
      "metadata": {
        "id": "riHC2tuLmBrT"
      }
    },
    {
      "cell_type": "markdown",
      "source": [
        "Por ejemplo, supongamos que queremos añadir un vector constante a cada fila de una matriz. Podríamos hacerlo así:\n"
      ],
      "metadata": {
        "id": "KZq3FzaTmWLN"
      }
    },
    {
      "cell_type": "code",
      "source": [
        "# Vamos a añadir el vector V a cada fila de la matriz x\n",
        "# guardando el resultado en la matriz y\n",
        "\n",
        "x = np.array([[1,2,3], [4,5,6], [7,8,9], [10, 11, 12]])\n",
        "v = np.array([1, 0, 1])\n",
        "\n",
        "y = np.empty_like(x)   # Creamos una matriz vacia de la misma forma de X\n",
        "\n",
        "# Añadimos el vector v a cada fila de la matriz X con un loop\n",
        "for i in range(4):\n",
        "    y[i, :] = x[i, :] + v\n",
        "\n",
        "print(y)"
      ],
      "metadata": {
        "colab": {
          "base_uri": "https://localhost:8080/"
        },
        "id": "Ogy2w-NLmR5w",
        "outputId": "99e13a35-b2d8-4cd1-9e10-0f6a5deed1ec"
      },
      "execution_count": null,
      "outputs": [
        {
          "output_type": "stream",
          "name": "stdout",
          "text": [
            "[[ 2  2  4]\n",
            " [ 5  5  7]\n",
            " [ 8  8 10]\n",
            " [11 11 13]]\n"
          ]
        }
      ]
    },
    {
      "cell_type": "markdown",
      "source": [
        "Esto funcionas, sin embargo, Numpy Broadcasting nos permite realizar este cálculo sin realmente crear múltiples copias de v. Considere esta versión, utilizando la Broadcasting:"
      ],
      "metadata": {
        "id": "dwgww-4nmyqc"
      }
    },
    {
      "cell_type": "code",
      "source": [
        "# Vamos a añadir el vector V a cada fila de la matriz x\n",
        "# guardando el resultado en la matriz y\n",
        "\n",
        "x = np.array([[1,2,3], [4,5,6], [7,8,9], [10, 11, 12]])\n",
        "v = np.array([1, 0, 1])\n",
        "y = x + v  # Añada v a cada fila de x mediante broadcasting\n",
        "print(y)"
      ],
      "metadata": {
        "colab": {
          "base_uri": "https://localhost:8080/"
        },
        "id": "OgKMNoc8nWbg",
        "outputId": "e99e9a8a-b863-4d27-8235-827a5db57ea2"
      },
      "execution_count": null,
      "outputs": [
        {
          "output_type": "stream",
          "name": "stdout",
          "text": [
            "[[ 2  2  4]\n",
            " [ 5  5  7]\n",
            " [ 8  8 10]\n",
            " [11 11 13]]\n"
          ]
        }
      ]
    },
    {
      "cell_type": "markdown",
      "source": [
        "**Cargando y guardando arreglos en archivos CSV**\n",
        "\n",
        "Para cargar y guardar arreglos en CSV (archivos separados por coma) utiliza los métodos loadtxt y savetxt"
      ],
      "metadata": {
        "id": "CxHl1z22hPx2"
      }
    },
    {
      "cell_type": "code",
      "source": [
        "arr = np.array([34,9,12,11,7])\n",
        "\n",
        "# Guardar a un archivo CSV\n",
        "np.savetxt('arreglo.csv', arr)"
      ],
      "metadata": {
        "id": "U1VIPe3HhG72"
      },
      "execution_count": null,
      "outputs": []
    },
    {
      "cell_type": "code",
      "source": [
        "# Cargar de un archivo CSV\n",
        "nuevo_arr = np.loadtxt('arreglo.csv')"
      ],
      "metadata": {
        "id": "b43BPC8xhcMz"
      },
      "execution_count": null,
      "outputs": []
    },
    {
      "cell_type": "code",
      "source": [
        "print(nuevo_arr)"
      ],
      "metadata": {
        "id": "0UR5g40RBB4Y"
      },
      "execution_count": null,
      "outputs": []
    },
    {
      "cell_type": "markdown",
      "source": [
        "Para estudiar Numpy en casa: https://www.w3schools.com/python/numpy/default.asp"
      ],
      "metadata": {
        "id": "hbPoyljuBDTD"
      }
    }
  ]
}
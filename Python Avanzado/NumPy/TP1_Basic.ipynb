{
  "nbformat": 4,
  "nbformat_minor": 0,
  "metadata": {
    "colab": {
      "provenance": [],
      "toc_visible": true
    },
    "kernelspec": {
      "name": "python3",
      "display_name": "Python 3"
    },
    "language_info": {
      "name": "python"
    }
  },
  "cells": [
    {
      "cell_type": "markdown",
      "source": [
        "# Trabajo Práctico 1: Introducción - Colab y módulos"
      ],
      "metadata": {
        "id": "ZmhgaRTxskzB"
      }
    },
    {
      "cell_type": "markdown",
      "source": [
        "## Ejercicio_1\n"
      ],
      "metadata": {
        "id": "RJIV3rpxsrra"
      }
    },
    {
      "cell_type": "markdown",
      "source": [
        "Crear un notebook en Google Colab y ejecutar los ejercicios detallados a\n",
        "continuación. En la primera celda, como texto escribir el título (#) del práctico. En la\n",
        "celda siguiente, como texto, la descripción de cada ejercicio.\n"
      ],
      "metadata": {
        "id": "lbVEQH79q1GD"
      }
    },
    {
      "cell_type": "markdown",
      "source": [
        "## Ejercicio_2\n"
      ],
      "metadata": {
        "id": "pPzES2JJsvr6"
      }
    },
    {
      "cell_type": "markdown",
      "source": [
        "2. Crear el módulo operaciones.py que contendrá 4 funciones: para realizar una suma,\n",
        "una resta, una multiplicación y una división entres dos números. Todas ellas\n",
        "devolverán el resultado."
      ],
      "metadata": {
        "id": "IJk8QjqxqOFt"
      }
    },
    {
      "cell_type": "code",
      "source": [
        "#%%writefile Operaciones.py\n",
        "import math as m\n",
        "\n",
        "def suma(a, b):\n",
        "  resultado = a + b\n",
        "  return resultado\n",
        "\n",
        "def resta(a,b):\n",
        "  resultado = a - b\n",
        "  return resultado\n",
        "\n",
        "def multiplicacion(a,b):\n",
        "  resultado = a * b\n",
        "  return resultado\n",
        "\n",
        "def division(a,b):\n",
        "  resultado = a / b\n",
        "  return resultado\n",
        "\n",
        "\n",
        "def CalcularAreaPerimetro(r):\n",
        "  pi = m.pi\n",
        "  perimetro = 2*pi*r\n",
        "  area = pi*(r**2)\n",
        "\n",
        "  return(area, perimetro)\n"
      ],
      "metadata": {
        "id": "Q8hBylyMujTR"
      },
      "execution_count": null,
      "outputs": []
    },
    {
      "cell_type": "markdown",
      "source": [
        "##Ejercicio_3\n"
      ],
      "metadata": {
        "id": "1O5IRY9xs2DA"
      }
    },
    {
      "cell_type": "markdown",
      "source": [
        "3. Función CalcularAreaPerimetro: recibe el radio de una circunferencia y devuelve el\n",
        "área y el perímetro. Importe la biblioteca math de python y use la variable math.pi\n",
        "* Parámetros de entrada: radio (real)\n",
        "* Valores de salida: área y perímetro (real)"
      ],
      "metadata": {
        "id": "Yzeqr5Odp6x3"
      }
    },
    {
      "cell_type": "code",
      "source": [
        "import math as m\n",
        "def CalcularAreaPerimetro(r):\n",
        "  pi = m.pi\n",
        "  perimetro = 2*pi*r\n",
        "  area = pi*(r**2)\n",
        "\n",
        "  return(area, perimetro)\n",
        "\n"
      ],
      "metadata": {
        "id": "Ul_WIbWOwEXd"
      },
      "execution_count": null,
      "outputs": []
    },
    {
      "cell_type": "markdown",
      "source": [
        "##Ejercicio_4\n"
      ],
      "metadata": {
        "id": "yQT0kXw5tCsA"
      }
    },
    {
      "cell_type": "markdown",
      "source": [
        "Diseñar una función que calcule el área y el perímetro de una circunferencia. Utiliza\n",
        "dicha función en un programa principal que lea el radio de una circunferencia y\n",
        "muestre su área y perímetro.\n"
      ],
      "metadata": {
        "id": "3ICfFLP0xQ12"
      }
    },
    {
      "cell_type": "code",
      "source": [
        "radio = input(int(\"Ingrese el radio de su circulo para saber el area y perimetro: \"))\n",
        "CalcularAreaPerimetro(radio)"
      ],
      "metadata": {
        "id": "Y-6pVSUKxECP"
      },
      "execution_count": null,
      "outputs": []
    },
    {
      "cell_type": "markdown",
      "source": [
        "##Ejercicio_5\n"
      ],
      "metadata": {
        "id": "zMcN4gc7s9hx"
      }
    },
    {
      "cell_type": "markdown",
      "source": [
        "5. Función Login: Recibe un nombre de usuario y una contraseña, y devuelve un valor\n",
        "lógico: verdadero si se ha introducido el nombre y la contraseña adecuadas. Además\n",
        "devuelve el número de internos\n",
        "* Parámetros de entrada: nombre y contraseña, y el número de intentos actual\n",
        "* Datos devueltos: Valor lógico indicando si ha hecho login, e intentos"
      ],
      "metadata": {
        "id": "i5PBXA7Wp_oH"
      }
    },
    {
      "cell_type": "code",
      "source": [
        "#parametros de entrada\n",
        "intento = 0 \n",
        "def log(usuario,contra,inte):\n",
        "  inte = intento+1\n",
        "  credenciales = False\n",
        "\n",
        "  nombre_correcto =\"pepito\"\n",
        "  contra_correcta = \"chingon\"\n",
        "  #cuerpo de la funcion\n",
        "\n",
        "  #comparo nombre y contraseña\n",
        "  #si nombre y contraseña son correctos = devuelvo verdadero\n",
        "  #si no son correctos deevuelvo falso\n",
        "  #siempre devuelvo los intentos =  intentos anteriores +1\n",
        "\n",
        "  if ((nombre == nombre_correcto) and (contra == contra_correcta)):\n",
        "    credenciales = True\n",
        "\n",
        "  else:\n",
        "    credenciales = False\n",
        "\n",
        "  return(credenciales, inte)\n",
        "\n",
        "\n",
        "nombre = input(\"ingrese su nombre: \")\n",
        "contra = input(\"ingrese su contraseña: \")\n",
        "log(nombre, contra, intento)"
      ],
      "metadata": {
        "colab": {
          "base_uri": "https://localhost:8080/"
        },
        "id": "P09wJT5S7qCd",
        "outputId": "ab8e1f48-d56a-42fc-e422-daaf05f631e7"
      },
      "execution_count": null,
      "outputs": [
        {
          "name": "stdout",
          "output_type": "stream",
          "text": [
            "ingrese su nombre: asdsad\n",
            "ingrese su contraseña: asdsad\n"
          ]
        },
        {
          "output_type": "execute_result",
          "data": {
            "text/plain": [
              "(False, 1)"
            ]
          },
          "metadata": {},
          "execution_count": 32
        }
      ]
    },
    {
      "cell_type": "markdown",
      "source": [
        "##Ejercicio_6"
      ],
      "metadata": {
        "id": "6YGSHycFtOFL"
      }
    },
    {
      "cell_type": "code",
      "source": [
        "intentos = 0"
      ],
      "metadata": {
        "id": "dYbZNRGstsZw"
      },
      "execution_count": null,
      "outputs": []
    },
    {
      "cell_type": "code",
      "source": [
        "\n",
        "\n",
        "def Operaciones(intentos):  #Programa principal para loguearme, arranco con intentos en 0\n",
        "\n",
        "  if intentos <3:     #si intentos es menor a 0, ingreso usuario y contraseña\n",
        "    user = input(\"usuario: \")\n",
        "    contra = input(\"contra: \")\n",
        "    intentos +=1    #incremento los intentos en 1\n",
        "    Login(user,contra,intentos) #intento hacer login\n",
        "\n",
        "\n",
        "def Login(acc, pw, intentos):       #funcion login que me permite comparar el usuario y contraseña ingresados, con los datos validos\n",
        "  usuario = \"usuario1\"\n",
        "  pas = \"asdasd\"\n",
        "  credencial = False\n",
        "\n",
        "\n",
        "  if acc == usuario and pw == pas:    #si user y pw son iguales a los validos, la credencial es True\n",
        "      print(\"Usuario y contraseña correctos\")\n",
        "      credencial = True\n",
        "  elif acc != usuario or pw != pas and intentos<3:    #si user o pw son diferentes, y los intentos son menores a 3, sigo intentando loguear\n",
        "      print(f\"Usuario o contraseña incorrectos, intentos registrados: {intentos}, recuerde que tiene 3 intentos.\")\n",
        "      credencial = False\n",
        "      Operaciones(intentos)   #invoco al programa principal, y le paso el numero de intentos\n",
        "\n",
        "        \n",
        "  return(credencial, intentos)\n",
        "\n",
        "Operaciones(0)  #inicio el programa con el valor intentos en 0"
      ],
      "metadata": {
        "colab": {
          "base_uri": "https://localhost:8080/"
        },
        "id": "4iSjJYBSAwbm",
        "outputId": "68ecba8b-4376-4621-de1a-98be8f8f350b"
      },
      "execution_count": null,
      "outputs": [
        {
          "output_type": "stream",
          "name": "stdout",
          "text": [
            "usuario: asdasd\n",
            "contra: asdasd\n",
            "Usuario o contraseña incorrectos, intentos registrados: 1, recuerde que tiene 3 intentos.\n",
            "usuario: usuario1\n",
            "contra: asdasd\n",
            "Usuario y contraseña correctos\n"
          ]
        }
      ]
    },
    {
      "cell_type": "markdown",
      "source": [
        "##Ejercicio_7"
      ],
      "metadata": {
        "id": "rwVegL25tPOT"
      }
    },
    {
      "cell_type": "markdown",
      "source": [
        "Crear y guardar un archivo de texto en Colab llamado lista_compras.txt con un\n",
        "producto = cantidad en cada fila (ejemplo: “leche=3”).\n",
        "Abrir el archivo de texto en Colab y leer cada fila, separar cada fila en elemento y\n",
        "cantidad.\n",
        "* Respuesta de la ejecución:\n",
        "-------------------\n",
        "Elemento: ____\n",
        "Cantidad: ___"
      ],
      "metadata": {
        "id": "gHzyfDLfyCDJ"
      }
    },
    {
      "cell_type": "code",
      "source": [
        "archivo = open(\"lista_compras.txt\", \"w\")  # Creo el archivo txt donde se va a guardar lo que el usuario escriba\n",
        "\n",
        "\n",
        "producto = \"leche\"\n",
        "cantidad = \"3\"\n",
        "datos = f\"{producto}={cantidad}\"\n",
        "\n",
        "archivo.write(datos)  # guardo estos datos en el txt creado anteriormente(archivo)\n",
        "\n",
        "archivo.close()  # cierro archivo\n",
        "\n",
        "archivo1 = open(\"lista_compras.txt\", \"r\") #abro archivo con r para leerlo\n",
        "lista_texto = archivo1.read() #guardo o copio lo que tenia el archivo adentro en la variable lista_texto\n",
        "archivo1.close  #cierro archivo\n",
        "\n",
        "\n",
        "separada = lista_texto.split(\"=\") #busco el signo igual que utilice en la variable datos, y separo el texto con split\n",
        "productos = separada[0]\n",
        "cantidades = separada[1]\n",
        "print(f\"Elemento: {productos}\")\n",
        "print(f\"Cantidad: {cantidades}\")\n"
      ],
      "metadata": {
        "colab": {
          "base_uri": "https://localhost:8080/"
        },
        "id": "O-ZnMoveyEWf",
        "outputId": "af9b6609-5339-4a40-f66f-efc667fe0605"
      },
      "execution_count": null,
      "outputs": [
        {
          "output_type": "stream",
          "name": "stdout",
          "text": [
            "Elemento: leche\n",
            "Cantidad: 3\n"
          ]
        }
      ]
    },
    {
      "cell_type": "markdown",
      "source": [
        "##Ejercicio_8"
      ],
      "metadata": {
        "id": "FNFAL86WtUOf"
      }
    },
    {
      "cell_type": "markdown",
      "source": [
        "Pedirle al usuario que ingrese un elemento, y una cantidad. Luego agregarle al\n",
        "archivo de texto del inciso anterior, una línea nueva con un elemento y su respectiva\n",
        "cantidad, en el formato correcto."
      ],
      "metadata": {
        "id": "2EE5GGG70jVb"
      }
    },
    {
      "cell_type": "code",
      "source": [
        "archivo2 = open(\"lista_compras.txt\", \"a\")\n",
        "\n",
        "productos = input(\"Ingrese producto: \")  # Input donde el usuario escribe\n",
        "cantidads = input(\"Ingrese cantidad: \")  # Input\n",
        "datos = f\",{productos}={cantidads}\"\n",
        "archivo2.write(datos)\n",
        "\n",
        "archivo2.close()\n",
        "\n",
        "\n",
        "archivo3 = open(\"lista_compras.txt\", \"r\")\n",
        "lista_completa = archivo3.read()\n",
        "\n",
        "\n",
        "print(lista_completa)"
      ],
      "metadata": {
        "id": "uFUftMQYtVIK",
        "colab": {
          "base_uri": "https://localhost:8080/"
        },
        "outputId": "99a5e6a9-07e6-4bdf-932e-fa274d0a7d08"
      },
      "execution_count": null,
      "outputs": [
        {
          "output_type": "stream",
          "name": "stdout",
          "text": [
            "Ingrese producto: chocolatada\n",
            "Ingrese cantidad: 5\n",
            "leche=3,azucar=3,azucar=4,chocolatada=5\n"
          ]
        }
      ]
    }
  ]
}